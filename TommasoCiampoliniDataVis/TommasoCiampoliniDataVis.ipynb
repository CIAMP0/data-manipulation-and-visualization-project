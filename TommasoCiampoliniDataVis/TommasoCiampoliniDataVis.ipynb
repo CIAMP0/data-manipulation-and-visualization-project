{
 "cells": [
  {
   "cell_type": "markdown",
   "id": "78c321c3-7cbf-4a74-b5e7-2b4f9078d79e",
   "metadata": {},
   "source": [
    "# Data Manipulation and Visualization - **Lifestyle**"
   ]
  },
  {
   "cell_type": "markdown",
   "id": "811db23a-9db9-427d-8d57-900f0ef5a0c4",
   "metadata": {},
   "source": [
    "progetto di: Tommaso Ciampolini"
   ]
  },
  {
   "cell_type": "markdown",
   "id": "744e2068-1db2-417b-be66-5066de104db5",
   "metadata": {},
   "source": [
    "Questo notebook è stato sviluppato identificando come ipotetico cliente il **Governo Italiano**.\n",
    "\n",
    "L'obiettivo di questa analisi è quello di mostrare l'indice di benessere dell'Italia rispetto agli altri Paesi, osservando il suo andamento negli ultimi anni e analizzando possibili fattori ad esso correlati con lo scopo di aiutare il Governo a prendere decisioni riguardanti le questioni pubbliche."
   ]
  },
  {
   "cell_type": "markdown",
   "id": "5b9611bb-0ab5-42d6-8fb0-775ac03d0d67",
   "metadata": {},
   "source": [
    "# Discovery"
   ]
  },
  {
   "cell_type": "markdown",
   "id": "ba139c1c-5868-43d2-b06d-d6dfff567f55",
   "metadata": {},
   "source": [
    "***\n",
    "\n",
    "La seguente analisi indaga **la condizione di benessere dei cittadini italiani** in relazione alla situazione globale e mostra i diversi **parametri correlati** al benessere della persona. L'obiettivo consiste nel dare un'indicazione su quali aspetti focalizzare l'attenzione nell'ottica di **incrementare lo stato di benessere dei cittadini.**\n",
    "\n",
    "L'analisi presenta la seguente struttura logica:\n",
    "\n",
    "- Selezione e descrizione dei dati\n",
    "- Pulizia ed esplorazione dei dati scelti\n",
    "- Preparazione dei dati per la rappresentazione\n",
    "- Panoramica generale sullo stato di benessere globale, negli Stati dell'UE ed in Italia\n",
    "- Andamento negli anni dell'indice di felicità nel mondo, in UE ed in Italia\n",
    "- Analisi dei parametri correlati all'indice di felicità in UE ed in Italia\n",
    "- Confronto della situazione italiana con la media UE\n",
    "- Conclusioni\n"
   ]
  },
  {
   "cell_type": "markdown",
   "id": "098e41dd-f147-4269-a2c7-114130157063",
   "metadata": {},
   "source": [
    "# Data Selections"
   ]
  },
  {
   "cell_type": "markdown",
   "id": "0f4fffec-297a-4bf1-acce-d513e30c8844",
   "metadata": {},
   "source": [
    "### Indice di felicità\n",
    "fonte: [World Happiness Report](https://worldhappiness.report/)  -------  [Download qui](https://www.kaggle.com/datasets/unsdsn/world-happiness?select=2018.csv)\n",
    "\n",
    "*The World Happiness Report* è un'affermata ricerca a livello internazionale sullo **stato di benessere globale**.\n",
    "\n",
    "I punteggi e le classifiche di felicità (Happiness Score) utilizzano i dati del sondaggio mondiale Gallup. I punteggi si basano sulle risposte alla principale domanda di valutazione della vita posta nel sondaggio. \n",
    " \n",
    "Questa domanda chiede agli intervistati di valutare la propria vita facendo riferimento alla scala di Cantril: 0 corrisponde alla peggiore vita possibile e 10 alla condizione migliore.\n",
    "\n",
    "Le colonne che seguono il punteggio di felicità (HS) stimano la misura in cui HS è influenzato da ciascuno di questi sei fattori: \n",
    "- produzione economica, \n",
    "- supporto sociale, \n",
    "- aspettativa di vita, \n",
    "- libertà, \n",
    "- assenza di corruzione,\n",
    "- generosità.\n",
    "\n",
    "### Indice di libertà\n",
    "fonte: [The Human Freedom Index](https://www.cato.org/human-freedom-index/2021)  -------  [Download qui](https://www.kaggle.com/datasets/gsutters/the-human-freedom-index)\n",
    "\n",
    "*The Human Freedom Index* riporta la misura globale delle **libertà personali, civili ed economiche** e viene rilasciato annualmente da *Cato Institute* e da *Fraser Institute*.\n",
    "\n",
    "L'obiettivo di questo dataset è quello di tracciare un quadro ampio ma ragionevolmente accurato del **grado di libertà generale nel mondo** intesa come assenza di vincoli coercitivi. Utilizza 79 indicatori distinti di libertà personale ed economica, comprende 165 Paesi ed i suoi dati riguardano le analisi dal 2008 al 2021.\n",
    "\n",
    "### Carico di malattia\n",
    "fonte: [Global Burden of Disease Collaborative Network.\n",
    "Global Burden of Disease Study 2019 (GBD 2019) Results.\n",
    "Seattle, United States: Institute for Health Metrics and Evaluation (IHME), 2020.](http://ghdx.healthdata.org/gbd-results-tool)\n",
    "rielaborati da Our World in data.  -------  [Download qui](https://ourworldindata.org/grapher/dalys-rate-from-all-causes)\n",
    "\n",
    "Viene preso come indicatore del carico di malattia della popolazione il DALY (disability-adjusted life year) su 100.000 individui per ogni patologia. Questo  valore indica la misura della **gravità globale di una patologia** espressa come il numero di anni persi a causa della malattia per disabilità o per morte prematura.\n",
    "\n",
    "### Disoccupazione\n",
    "fonte: [World Development Indicators - World Bank (2022.05.26)](https://datacatalog.worldbank.org/search/dataset/0037712/World-Development-Indicators)\n",
    "rielaborati da Our World in data.  -------  [Download qui](https://ourworldindata.org/grapher/unemployment-rate)\n",
    "\n",
    "Questo dataset si riferisce alla quota della forza lavoro che non ha un impiego ma è disponibile e in cerca di un'occupazione espresso in percentuale sulla popolazione nazionale.\n",
    "\n",
    "### Anni di scolarizzazione previsti\n",
    "fonte: [UNDP, Human Development Report (2021-22)](https://hdr.undp.org/)\n",
    "rielaborati da Our World in data.  -------  [Download qui](https://ourworldindata.org/grapher/expected-years-of-schooling)\n",
    "\n",
    "Gli anni di scolarizzazione previsti sono il numero di anni che un bambino in età scolare dovrebbe trascorrere a scuola e all'università, compresi gli anni di ripetizione. È la somma dei rapporti di iscrizione specifici per età per l'istruzione primaria, secondaria, post-secondaria non terziaria e terziaria.\n"
   ]
  },
  {
   "cell_type": "code",
   "execution_count": null,
   "id": "75728184-91cb-410f-935a-143d6f3f555d",
   "metadata": {},
   "outputs": [],
   "source": []
  },
  {
   "cell_type": "markdown",
   "id": "d70e6a77-0318-4784-92f2-4e651d83e617",
   "metadata": {
    "tags": []
   },
   "source": [
    "# Preparation"
   ]
  },
  {
   "cell_type": "code",
   "execution_count": null,
   "id": "3fbf677c-1b80-46b7-b3d1-61f53270f88d",
   "metadata": {},
   "outputs": [],
   "source": [
    "# importo librerie necessarie\n",
    "\n",
    "import numpy as np\n",
    "import seaborn as sns\n",
    "import matplotlib.pyplot as plt\n",
    "import matplotlib.cm as cm\n",
    "import pandas as pd\n",
    "import os, shutil\n",
    "import datetime\n",
    "from functools import reduce\n",
    "from math import ceil\n",
    "import folium\n",
    "import geojson\n",
    "import difflib"
   ]
  },
  {
   "cell_type": "code",
   "execution_count": null,
   "id": "e32e7bd6-0341-46ad-a8e7-f744305a1f7c",
   "metadata": {},
   "outputs": [],
   "source": [
    "# definisco una funzione per estrapolare colori da colormap\n",
    "\n",
    "def get_colors_from_cmap(cmap, n_colors):\n",
    "    color_map = cm.get_cmap(cmap, 256)\n",
    "    colors = color_map(np.linspace(0, 1, n_colors))\n",
    "    return colors"
   ]
  },
  {
   "cell_type": "code",
   "execution_count": null,
   "id": "e385d497-ce06-49ad-ad18-fa11f93ace9a",
   "metadata": {},
   "outputs": [],
   "source": [
    "# imposto stile e interfaccia grafica\n",
    "\n",
    "%matplotlib inline\n",
    "plt.style.use('seaborn-darkgrid')\n",
    "sns.set_style(\"darkgrid\")\n",
    "sns.set_palette(\"viridis\")\n",
    "sns.set_theme(\"notebook\")\n"
   ]
  },
  {
   "cell_type": "code",
   "execution_count": null,
   "id": "43b5b203-14f3-424e-b712-bfe487b40cc0",
   "metadata": {},
   "outputs": [],
   "source": [
    "# importo i dataset dalla cartella Data\n",
    "for f in os.listdir(\"Data\"):\n",
    "    file, ext = os.path.splitext(f)\n",
    "    if ext == \".csv\":\n",
    "        globals()[f\"{file}_df\"] = pd.read_csv(f\"Data/{f}\")\n",
    "        print(f\"ho creato il dataframe: {file}_df\")\n",
    "    else:\n",
    "        print(f\"non riconosco l'estensione del file {f}, inserire manualmente se necessario\")"
   ]
  },
  {
   "cell_type": "code",
   "execution_count": null,
   "id": "5c68e5a4-f9bd-48ec-9058-7ce0d8045dad",
   "metadata": {},
   "outputs": [],
   "source": [
    "# creo cartella immagini se non esiste già\n",
    "\n",
    "# verifico se la cartella esiste\n",
    "if not os.path.exists(\"immagini\"):\n",
    "    os.mkdir(\"immagini\") # creo cartella se non esiste\n",
    "    print(f\"La cartella 'immagini è stata creata.\")\n",
    "else:\n",
    "    print(f\"La cartella immagini esiste già.\")\n"
   ]
  },
  {
   "cell_type": "markdown",
   "id": "dbbd1331-61bf-4530-a4a6-651210962bcf",
   "metadata": {
    "tags": []
   },
   "source": [
    "# Data Cleaning & Data Exploration"
   ]
  },
  {
   "cell_type": "markdown",
   "id": "889e454b-68cf-49d0-bdf9-10300baee919",
   "metadata": {
    "tags": []
   },
   "source": [
    "## Indice Felicità"
   ]
  },
  {
   "cell_type": "code",
   "execution_count": null,
   "id": "5ae71aff-d923-4dd6-981c-25f46463644e",
   "metadata": {},
   "outputs": [],
   "source": [
    "WHR_2015_df.sample()"
   ]
  },
  {
   "cell_type": "code",
   "execution_count": null,
   "id": "58c41712-cfee-418b-8843-78772b976545",
   "metadata": {},
   "outputs": [],
   "source": [
    "WHR_2016_df.sample()"
   ]
  },
  {
   "cell_type": "code",
   "execution_count": null,
   "id": "39bd93fe-6db6-4f34-8830-c6ee33f7b3ac",
   "metadata": {},
   "outputs": [],
   "source": [
    "WHR_2017_df.sample()"
   ]
  },
  {
   "cell_type": "code",
   "execution_count": null,
   "id": "d45762fa-ff57-4fa9-9fc9-079c45ad8935",
   "metadata": {},
   "outputs": [],
   "source": [
    "WHR_2018_df.sample()"
   ]
  },
  {
   "cell_type": "code",
   "execution_count": null,
   "id": "534c55f0-bd5a-4448-82d3-9f5528f7acb3",
   "metadata": {},
   "outputs": [],
   "source": [
    "WHR_2019_df.sample()"
   ]
  },
  {
   "cell_type": "markdown",
   "id": "c2dc356a-47b2-4fe2-b0a0-8e201af84de2",
   "metadata": {},
   "source": [
    "### Considerazioni\n",
    "\n",
    "I dataset del World Happiness Report sono simili ma non identici. I nomi delle colonne variano leggermente ed anche il numero di colonne. E' necessario conformare i nomi delle colonne e scegliere quali utilizzare. \n",
    "\n",
    "Mantengo le colonne che sono presenti in tutti gli anni e che hanno dati rilevanti per questa analisi: \n",
    "\n",
    "- Country\n",
    "- Happiness Score\n",
    "- Economy (GDP per Capita)\n",
    "- Social Support\n",
    "- Health (Life Expectancy)\n",
    "- Freedom to make life choices\n",
    "- Trust (Government Corruption)\n",
    "- Generosity\n",
    "- year\n",
    "\n",
    "\n",
    "Per rendere più agevole l'analisi unirò i dataset con i dati dei diversi anni in un unico dataset.\n",
    "\n",
    "**Fasi:**\n",
    "\n",
    "1. Aggiungo una colonna \"year\" ad ogni dataframe in cui viene riportato l'anno a cui si riferiscono i dati.\n",
    "2. Rinomino le colonne di interesse ed elimino quelle non rilevanti\n",
    "3. Verifico che i nomi degli Stati combacino\n",
    "4. Unisco i dataset\n",
    "5. Gestisco i valori mancanti, nulli o 0"
   ]
  },
  {
   "cell_type": "markdown",
   "id": "a79cd291-a5bf-4898-8f36-c5bb2fc6d01d",
   "metadata": {},
   "source": [
    "#### -1 aggiungo la colonna year"
   ]
  },
  {
   "cell_type": "code",
   "execution_count": null,
   "id": "2efcbea8-f546-44e2-99cd-19aeff580de3",
   "metadata": {},
   "outputs": [],
   "source": [
    "# 1 aggiungo colonna \"year\" ai dataframe con anno corrispettivo\n",
    "for anno in range(2015,2020):\n",
    "    globals()[f'WHR_{anno}_df']['year'] = anno"
   ]
  },
  {
   "cell_type": "markdown",
   "id": "09254197-4f06-426d-af29-4b0b8d065d27",
   "metadata": {},
   "source": [
    "#### -2 sistemo le colonne"
   ]
  },
  {
   "cell_type": "code",
   "execution_count": null,
   "id": "38117712-c3de-443a-a81a-cf1c995e45f1",
   "metadata": {},
   "outputs": [],
   "source": [
    "# 2 rinomino colonne ed elimino quelle che non servono: 2015\n",
    "WHR_2015_df.rename(columns={\"Family\":\"Social Support\",\n",
    "                            \"Freedom\":\"Freedom to make life choices\"}, \n",
    "                   inplace=True)\n",
    "\n",
    "WHR_2015_df = WHR_2015_df[[\"year\", \n",
    "                           \"Country\",\n",
    "                           \"Happiness Score\",\n",
    "                           \"Economy (GDP per Capita)\", \n",
    "                           \"Social Support\",\n",
    "                           \"Health (Life Expectancy)\",\n",
    "                           \"Freedom to make life choices\",\n",
    "                           \"Generosity\",\n",
    "                           \"Trust (Government Corruption)\"]]"
   ]
  },
  {
   "cell_type": "code",
   "execution_count": null,
   "id": "d5554481-57b9-41ea-ad19-c2fa937a08ae",
   "metadata": {},
   "outputs": [],
   "source": [
    "# 2 rinomino colonne ed elimino quelle che non servono: 2016\n",
    "WHR_2016_df.rename(columns={\"Family\":\"Social Support\",\n",
    "                            \"Freedom\":\"Freedom to make life choices\"}, \n",
    "                   inplace=True)\n",
    "\n",
    "WHR_2016_df = WHR_2016_df[[\"year\", \n",
    "                           \"Country\",\n",
    "                           \"Happiness Score\",\n",
    "                           \"Economy (GDP per Capita)\", \n",
    "                           \"Social Support\",\n",
    "                           \"Health (Life Expectancy)\",\n",
    "                           \"Freedom to make life choices\",\n",
    "                           \"Generosity\",\n",
    "                           \"Trust (Government Corruption)\"]]"
   ]
  },
  {
   "cell_type": "code",
   "execution_count": null,
   "id": "0e105051-0d97-46cd-b347-a6b701adaf1e",
   "metadata": {},
   "outputs": [],
   "source": [
    "# 2 rinomino colonne ed elimino quelle che non servono: 2017\n",
    "WHR_2017_df.rename(columns={\"Happiness.Score\":\"Happiness Score\",\n",
    "                            \"Economy..GDP.per.Capita.\":\"Economy (GDP per Capita)\",\n",
    "                            \"Health..Life.Expectancy.\":\"Health (Life Expectancy)\",\n",
    "                            \"Family\":\"Social Support\",\n",
    "                            \"Freedom\":\"Freedom to make life choices\",\n",
    "                            \"Trust..Government.Corruption.\":\"Trust (Government Corruption)\"}, \n",
    "                   inplace=True)\n",
    "\n",
    "WHR_2017_df = WHR_2017_df[[\"year\", \n",
    "                           \"Country\",\n",
    "                           \"Happiness Score\",\n",
    "                           \"Economy (GDP per Capita)\", \n",
    "                           \"Social Support\",\n",
    "                           \"Health (Life Expectancy)\",\n",
    "                           \"Freedom to make life choices\",\n",
    "                           \"Generosity\",\n",
    "                           \"Trust (Government Corruption)\"]]"
   ]
  },
  {
   "cell_type": "code",
   "execution_count": null,
   "id": "e97a09f5-933d-499e-bbc9-4cbf57b4dffc",
   "metadata": {},
   "outputs": [],
   "source": [
    "# 2 rinomino colonne ed elimino quelle che non servono: 2018\n",
    "WHR_2018_df.rename(columns={\"Country or region\":\"Country\",\n",
    "                            \"Score\":\"Happiness Score\",\n",
    "                            \"Social support\": \"Social Support\",\n",
    "                            \"GDP per capita\":\"Economy (GDP per Capita)\",\n",
    "                            \"Healthy life expectancy\":\"Health (Life Expectancy)\",\n",
    "                            \"Perceptions of corruption\":\"Trust (Government Corruption)\"}, \n",
    "                   inplace=True)\n",
    "\n",
    "WHR_2018_df = WHR_2018_df[[\"year\", \n",
    "                           \"Country\",\n",
    "                           \"Happiness Score\",\n",
    "                           \"Economy (GDP per Capita)\", \n",
    "                           \"Social Support\",\n",
    "                           \"Health (Life Expectancy)\",\n",
    "                           \"Freedom to make life choices\",\n",
    "                           \"Generosity\",\n",
    "                           \"Trust (Government Corruption)\"]]"
   ]
  },
  {
   "cell_type": "code",
   "execution_count": null,
   "id": "bbaa378d-0668-4edf-bde7-45776c2f8593",
   "metadata": {},
   "outputs": [],
   "source": [
    "# 2 rinomino colonne ed elimino quelle che non servono: 2019\n",
    "WHR_2019_df.rename(columns={\"Country or region\":\"Country\",\n",
    "                            \"Score\":\"Happiness Score\",\n",
    "                            \"Social support\": \"Social Support\",\n",
    "                            \"GDP per capita\":\"Economy (GDP per Capita)\",\n",
    "                            \"Healthy life expectancy\":\"Health (Life Expectancy)\",\n",
    "                            \"Perceptions of corruption\":\"Trust (Government Corruption)\"}, \n",
    "                   inplace=True)\n",
    "\n",
    "WHR_2019_df = WHR_2019_df[[\"year\", \n",
    "                           \"Country\",\n",
    "                           \"Happiness Score\",\n",
    "                           \"Economy (GDP per Capita)\", \n",
    "                           \"Social Support\",\n",
    "                           \"Health (Life Expectancy)\",\n",
    "                           \"Freedom to make life choices\",\n",
    "                           \"Generosity\",\n",
    "                           \"Trust (Government Corruption)\"]]"
   ]
  },
  {
   "cell_type": "markdown",
   "id": "b123c643-9446-4ae5-82ed-c7e3fc13674c",
   "metadata": {},
   "source": [
    "#### -3 verifico nomi Stati\n",
    "\n",
    "Prima di poter unire i dati in unico dataset bisogna verificare che i nomi degli Stati siano scritti allo stesso modo per ogni anno:\n",
    "\n",
    "- creo una lista dei nomi che non combaciano tra i vari anni\n",
    "- correggo i nomi dove possibile\n",
    "- elimino eventuali Stati non presenti tutti gli anni\n",
    "\n"
   ]
  },
  {
   "cell_type": "code",
   "execution_count": null,
   "id": "327ff959-4fdb-4666-9982-45d28bb8df3b",
   "metadata": {},
   "outputs": [],
   "source": [
    "# 3 creo array con nomi degli stati per ogni anno\n",
    "\n",
    "country_2015 = WHR_2015_df[\"Country\"]\n",
    "country_2016 = WHR_2016_df[\"Country\"]\n",
    "country_2017 = WHR_2017_df[\"Country\"]\n",
    "country_2018 = WHR_2018_df[\"Country\"]\n",
    "country_2019 = WHR_2019_df[\"Country\"]\n",
    "\n",
    "# paesi che sono presenti tutti gli anni\n",
    "evry_year_country = (reduce(np.intersect1d,(country_2015, \n",
    "                             country_2016, \n",
    "                             country_2017, \n",
    "                             country_2018,\n",
    "                             country_2019)))\n",
    "\n",
    "print(\"i Paesi presenti tutti gli anni sono: \", evry_year_country.shape[0])\n",
    "print(\"\\n\")\n",
    "print(\"I Paesi che NON sono presenti tutti gli anni sono:\")\n",
    "for anno in range(2015,2020):\n",
    "    print(anno, \"\\n\", np.setdiff1d(globals()[f\"country_{anno}\"], evry_year_country))\n",
    "                                   \n"
   ]
  },
  {
   "cell_type": "markdown",
   "id": "d76efe1b-0ff7-485e-9898-22dade89ae6a",
   "metadata": {},
   "source": [
    "##### **correzioni**\n",
    "\n",
    "Si possono notare alcune differenze facilmente correggibili:\n",
    "- Hong Kong nel 2017 ha anche la dicitura S.A.R., China\n",
    "- North Cyprus diventa Northen Cyprus nel 2018\n",
    "- Taiwan nel 2017 ha anche la dicitura Province of China\n",
    "- Trinidad and Tobago dal 2018 è Trinidad & Tobago\n"
   ]
  },
  {
   "cell_type": "code",
   "execution_count": null,
   "id": "8f30dca2-5f6e-40fe-abcc-2f6763179dbd",
   "metadata": {},
   "outputs": [],
   "source": [
    "# correggo i nomi degli stati\n",
    "\n",
    "WHR_2017_df.loc[WHR_2017_df[\"Country\"]== \"Hong Kong S.A.R., China\", \"Country\"] = \"Hong Kong\"\n",
    "WHR_2018_df.loc[WHR_2018_df[\"Country\"]== \"Northern Cyprus\", \"Country\"] = \"North Cyprus\"\n",
    "WHR_2019_df.loc[WHR_2019_df[\"Country\"]== \"Northern Cyprus\", \"Country\"] = \"North Cyprus\"\n",
    "WHR_2017_df.loc[WHR_2017_df[\"Country\"]== \"Taiwan Province of China\", \"Country\"] = \"Taiwan\"\n",
    "WHR_2018_df.loc[WHR_2018_df[\"Country\"]== \"Trinidad & Tobago\", \"Country\"] = \"Trinidad and Tobago\"\n",
    "WHR_2019_df.loc[WHR_2019_df[\"Country\"]== \"Trinidad & Tobago\", \"Country\"] = \"Trinidad and Tobago\"\n"
   ]
  },
  {
   "cell_type": "code",
   "execution_count": null,
   "id": "9a926c05-3c20-4649-ab1c-1351a5c1f436",
   "metadata": {},
   "outputs": [],
   "source": [
    "# verifico di aver fatto correttamente le modifiche\n",
    "evry_year_country = (reduce(np.intersect1d,(country_2015, \n",
    "                             country_2016, \n",
    "                             country_2017, \n",
    "                             country_2018,\n",
    "                             country_2019)))\n",
    "\n",
    "print(\"i Paesi presenti tutti gli anni sono: \", evry_year_country.shape[0])\n",
    "print(\"\\n\")"
   ]
  },
  {
   "cell_type": "markdown",
   "id": "43dfc77d-6af4-41e5-9ee1-7f22f217b115",
   "metadata": {},
   "source": [
    "rispetto ai 141 Paesi precedenti, si sono aggiunti i 4 Paesi che ho modificato.\n",
    "\n",
    "\n",
    "\n",
    "\n",
    "\n",
    "---"
   ]
  },
  {
   "cell_type": "markdown",
   "id": "d81a5d3b-1817-436b-ad78-b5ecd801b156",
   "metadata": {},
   "source": [
    "#### -4 unisco i dataframe\n",
    "\n",
    "Unisco in un unico dataset e seleziono i 145 Paesi"
   ]
  },
  {
   "cell_type": "code",
   "execution_count": null,
   "id": "6c788784-78ab-4d47-94f9-4a42f806b30b",
   "metadata": {},
   "outputs": [],
   "source": [
    "# 3 unisco i dataframe\n",
    "WHR_bozza_df = pd.merge(WHR_2015_df, WHR_2016_df, how='outer')\n",
    "WHR_bozza_df = pd.merge(WHR_bozza_df, WHR_2017_df, how='outer')\n",
    "WHR_bozza_df = pd.merge(WHR_bozza_df, WHR_2018_df, how='outer')\n",
    "WHR_bozza_df = pd.merge(WHR_bozza_df, WHR_2019_df, how='outer')\n",
    "\n",
    "\n",
    "WHR_bozza_df.sample(5)"
   ]
  },
  {
   "cell_type": "code",
   "execution_count": null,
   "id": "5baf452e-bb64-4017-8870-b128b8b3ddc9",
   "metadata": {},
   "outputs": [],
   "source": [
    "# seleziono i 145 Paesi che sono presenti in tutti gli anni\n",
    "WHR_df = WHR_bozza_df.loc[WHR_bozza_df[\"Country\"] == \"PaeseInesistente\"] # dataframe vuoto ma con colonne giuste\n",
    "for country in evry_year_country:\n",
    "    WHR_df = pd.merge(WHR_df, WHR_bozza_df.loc[WHR_bozza_df[\"Country\"] == country], how=\"outer\") # aggiungo gli Stati presenti ogni anno\n",
    "\n",
    "WHR_df"
   ]
  },
  {
   "cell_type": "markdown",
   "id": "42c02c3d-8b04-4ccb-bd14-d795411c1205",
   "metadata": {},
   "source": [
    "il DataFrame ha 725 righe (145 Paesi x 5 anni) quindi l'operazione di merge è andata come previsto"
   ]
  },
  {
   "cell_type": "markdown",
   "id": "3f1ff7c1-43f9-42a6-9c3e-9866a5908b22",
   "metadata": {},
   "source": [
    "#### -5 valori mancanti"
   ]
  },
  {
   "cell_type": "code",
   "execution_count": null,
   "id": "41c660d5-3fdd-44d9-8f02-c07c890ed7a1",
   "metadata": {},
   "outputs": [],
   "source": [
    "# verifico dati mancanti\n",
    "WHR_df.isna().sum()"
   ]
  },
  {
   "cell_type": "markdown",
   "id": "acacb4cc-8d5a-40df-a5b7-1a7ae5d15feb",
   "metadata": {},
   "source": [
    "manca solo il valore di una cella nella colonna Trust"
   ]
  },
  {
   "cell_type": "code",
   "execution_count": null,
   "id": "54da5f1f-1e58-4c97-9662-461cc5572a77",
   "metadata": {},
   "outputs": [],
   "source": [
    "# verifico presenza di zeri\n",
    "zero = WHR_df.eq(0).sum()\n",
    "zero"
   ]
  },
  {
   "cell_type": "markdown",
   "id": "5821a5ed-c669-43f6-891c-c43f379fe92c",
   "metadata": {},
   "source": [
    "considerando la natura dei dati, il valore 0 non ha senso come dato,\n",
    "\n",
    "è più appropriato considerarli dati mancanti paragonabili a NaN.\n",
    "\n",
    "Sostituisco gli 0 con np.NaN"
   ]
  },
  {
   "cell_type": "code",
   "execution_count": null,
   "id": "d64a5a52-bad6-4e83-ad39-2b66ac77ad19",
   "metadata": {},
   "outputs": [],
   "source": [
    "# sostituisco gli zeri con np.NaN\n",
    "WHR_df.replace(0, np.NaN, inplace=True)"
   ]
  },
  {
   "cell_type": "code",
   "execution_count": null,
   "id": "8c390ff0-8a93-48e3-a4eb-977c0c3c7ad8",
   "metadata": {},
   "outputs": [],
   "source": [
    "# trovo percentuale di missing values nel dataset\n",
    "print(f\"\"\"\n",
    "PERCENTUALE DATI MANCANTI:\n",
    "\n",
    "{(WHR_df.isnull().mean() *100).sort_values(ascending=False)}\n",
    "\"\"\")"
   ]
  },
  {
   "cell_type": "markdown",
   "id": "eaad0946-aa46-43d2-968d-5fc9116fd086",
   "metadata": {},
   "source": [
    "**i dati mancanti sono molto pochi, sempre sotto al 1%**"
   ]
  },
  {
   "cell_type": "markdown",
   "id": "5c412d32-193a-4e3e-ad84-2d7d83f6f4ec",
   "metadata": {
    "tags": []
   },
   "source": [
    "## Indice Libertà"
   ]
  },
  {
   "cell_type": "code",
   "execution_count": null,
   "id": "2f3cfd21-b9f6-4336-9c7b-a3d3d6011eaa",
   "metadata": {},
   "outputs": [],
   "source": [
    "freedom_df.sample(5)"
   ]
  },
  {
   "cell_type": "code",
   "execution_count": null,
   "id": "bf01b9b8-27ef-4f3a-9630-94eb00b9205f",
   "metadata": {},
   "outputs": [],
   "source": [
    "freedom_df.info()"
   ]
  },
  {
   "cell_type": "markdown",
   "id": "ac71b08b-65f0-48fa-a89a-070ad5b4d58a",
   "metadata": {},
   "source": [
    "### Considerazioni\n",
    "\n",
    "Il dataset è formato da innumerevoli indici che mettono in relazione diversi aspetti della vita con le libertà personali. Per questa analisi ci interessano gli indici di libertà personale (pf_score), libertà economica (ef_score), libertà umana (hf_score), l'anno ed il nome dello Stato. \n",
    "\n",
    "Mantengo le seguenti colonne:\n",
    "\n",
    "- year\n",
    "- countries\n",
    "- hf_score\n",
    "- pf_score\n",
    "- ef_score\n",
    "\n",
    "**fasi:**\n",
    "1. Seleziono le colonne utili\n",
    "2. Rinomino le colonne\n",
    "3. Gestisco i nomi degli Stati\n",
    "4. Gestisco gli anni\n",
    "5. Gestisco i valori mancanti, nulli o 0"
   ]
  },
  {
   "cell_type": "markdown",
   "id": "f4ffcdee-c9e9-4b63-ba87-073429fe29c9",
   "metadata": {},
   "source": [
    "#### -1 seleziono le colonne"
   ]
  },
  {
   "cell_type": "code",
   "execution_count": null,
   "id": "876aa9ef-0d05-4e5c-b27d-61c4ddc58b0b",
   "metadata": {},
   "outputs": [],
   "source": [
    "# verifico i dati delle colonne utili\n",
    "freedom_df[[\"year\", \"countries\", \"hf_score\", \"pf_score\", \"ef_score\"]].info()"
   ]
  },
  {
   "cell_type": "markdown",
   "id": "0193ff4c-9b2f-4ebe-bce7-adc9dd508bbd",
   "metadata": {},
   "source": [
    "i dati sembrano consistenti e del tipo corretto"
   ]
  },
  {
   "cell_type": "code",
   "execution_count": null,
   "id": "d09ec861-ba36-412d-a321-5f53e6189966",
   "metadata": {},
   "outputs": [],
   "source": [
    "# prendo solo le colonne con gli indici hf (human freedom), pf (personal freedom) ed ef (economic freedom)\n",
    "freedom_df = freedom_df[[\"year\", \"countries\", \"hf_score\", \"pf_score\", \"ef_score\"]]"
   ]
  },
  {
   "cell_type": "markdown",
   "id": "6ea3f262-e95b-4787-a03b-32409eda9e93",
   "metadata": {},
   "source": [
    "#### -2 rinomino le colonne"
   ]
  },
  {
   "cell_type": "code",
   "execution_count": null,
   "id": "39c90461-26c4-42ac-9802-474a1dbcb4e7",
   "metadata": {},
   "outputs": [],
   "source": [
    "# cambio il nome alle colonne per standardizzare tutti i dataframe\n",
    "freedom_df.rename(columns={\"countries\": \"Country\",\n",
    "                           \"hf_score\": \"Human freedom score\",\n",
    "                           \"pf_score\": \"Personal freedom score\",\n",
    "                           \"ef_score\": \"Economic freedom score\"}, inplace=True)\n",
    "freedom_df"
   ]
  },
  {
   "cell_type": "markdown",
   "id": "20389360-2ac6-4cee-b56a-158527b61b06",
   "metadata": {},
   "source": [
    "#### -3 gestisco gli anni"
   ]
  },
  {
   "cell_type": "code",
   "execution_count": null,
   "id": "8e820771-0b0c-4210-970a-3c21495f6444",
   "metadata": {},
   "outputs": [],
   "source": [
    "freedom_df[\"year\"].min()"
   ]
  },
  {
   "cell_type": "code",
   "execution_count": null,
   "id": "4fdb8f12-61cd-4c89-9ef9-4cf5e7e4821f",
   "metadata": {},
   "outputs": [],
   "source": [
    "freedom_df[\"year\"].max()"
   ]
  },
  {
   "cell_type": "markdown",
   "id": "3515a503-fa75-4a30-8b7e-adf1bdd81de3",
   "metadata": {},
   "source": [
    "I dati di questo dataset partono dal 2008, visto che i dati riguardanti la felicità partono dal 2015, prendo solo i dati dal 2015 in poi anche per questo dataframe."
   ]
  },
  {
   "cell_type": "code",
   "execution_count": null,
   "id": "a80ee8f8-35a4-4e60-a713-e769648d4f4e",
   "metadata": {},
   "outputs": [],
   "source": [
    "# filtro solo gli anni dopo il 2015\n",
    "freedom_df = freedom_df.loc[freedom_df[\"year\"] >= 2015,:]\n",
    "freedom_df"
   ]
  },
  {
   "cell_type": "markdown",
   "id": "ec93b589-06a3-4c74-9405-a979c956b985",
   "metadata": {},
   "source": [
    "#### -4 gestisco gli Stati\n"
   ]
  },
  {
   "cell_type": "markdown",
   "id": "0e426b83-2dd7-43e2-9a95-8c884cad12eb",
   "metadata": {},
   "source": [
    "verifico se i nomi degli Stati combacia con il dataset WHR_df"
   ]
  },
  {
   "cell_type": "code",
   "execution_count": null,
   "id": "3aa1cc1f-3041-425b-acc7-145cea11f963",
   "metadata": {},
   "outputs": [],
   "source": [
    "# verifico se i nomi degli Stati combaciano all'interno del dataframe nei diversi anni\n",
    "\n",
    "print(\"numero di Stati:\")\n",
    "for y in range(2015,2020):\n",
    "    print(f\"{y}:\", freedom_df.loc[freedom_df[\"year\"]==y,\"Country\"].count()) # numero Stati per anno\n",
    "\n",
    "\n",
    "# confronto i nomi degli Stati nei diversi anni\n",
    "count = 0 \n",
    "for y in range(2015,2020):\n",
    "    for y_1 in range(2015,2020):\n",
    "        if not np.array_equal(freedom_df.loc[freedom_df[\"year\"]==y,\"Country\"], \n",
    "                              freedom_df.loc[freedom_df[\"year\"]==y_1,\"Country\"]):\n",
    "            print(f\"{y} e {y_1} sono diversi!\")\n",
    "            count += 1\n",
    "if count == 0:\n",
    "    print(\"Sono tutti uguali!\")\n",
    "\n"
   ]
  },
  {
   "cell_type": "code",
   "execution_count": null,
   "id": "dfa3e1ad-fbd6-4919-9243-ba24e6eda654",
   "metadata": {},
   "outputs": [],
   "source": [
    "# confronto i nomi degli Stati di freedom_df con quelli di WHR_df\n",
    "C_non_inc = np.setdiff1d(freedom_df.loc[freedom_df[\"year\"]==2015,\"Country\"], evry_year_country)\n",
    "\n",
    "print(f\"nomi in freedom_df che non sono presenti in WHR_df sono {len(C_non_inc)}\")\n"
   ]
  },
  {
   "cell_type": "code",
   "execution_count": null,
   "id": "ff98f019-a344-4865-ba42-5c9887a994e1",
   "metadata": {},
   "outputs": [],
   "source": [
    "# trovo gli Stati spaiati in WHR_df\n",
    "spaiati = np.setdiff1d(evry_year_country, freedom_df.loc[freedom_df[\"year\"]==2015,\"Country\"])\n",
    "\n",
    "print(f\"nomi spaiati in WHR_df sono {len(spaiati)}\")"
   ]
  },
  {
   "cell_type": "code",
   "execution_count": null,
   "id": "85ac18c4-7d9f-490d-bce5-1742143ecb00",
   "metadata": {},
   "outputs": [],
   "source": [
    "for c in spaiati:\n",
    "    print(c)"
   ]
  },
  {
   "cell_type": "code",
   "execution_count": null,
   "id": "6a108fd7-a161-4ba5-ba86-24aec1c497c9",
   "metadata": {},
   "outputs": [],
   "source": [
    "#cerco somiglianze tra i Paesi che non combaciano\n",
    "for C in C_non_inc:\n",
    "    #cerca una corrispondenza simile\n",
    "    match = difflib.get_close_matches(C, spaiati, n=5, cutoff=0.6)\n",
    "    if match:\n",
    "        print(f\"Possibile somiglianza tra: {C} e {match}\")\n",
    "        \n",
    "    # cerco i Paesi che hanno le prime 5 lettere uguali\n",
    "    for c in spaiati:\n",
    "        if C[0:5] == c[0:5]: # se hanno le prime 5 lettere uguali\n",
    "            print(f\"Iniziano con le stesse lettere: {C} e {c}\")"
   ]
  },
  {
   "cell_type": "code",
   "execution_count": null,
   "id": "ed0d3399-70ab-48c1-a165-7858d921b43d",
   "metadata": {},
   "outputs": [],
   "source": [
    "# correggo i nomi\n",
    "freedom_df.loc[freedom_df[\"Country\"]==\"Congo, Dem. Rep.\", \"Country\"] = \"Congo (Kinshasa)\"\n",
    "freedom_df.loc[freedom_df[\"Country\"]==\"Congo, Rep.\", \"Country\"] = \"Congo (Brazzaville)\"\n",
    "freedom_df.loc[freedom_df[\"Country\"]==\"Egypt, Arab Rep.\", \"Country\"] = \"Egypt\"\n",
    "freedom_df.loc[freedom_df[\"Country\"]==\"Guinea-Bissau\", \"Country\"] = \"Guinea\"\n",
    "freedom_df.loc[freedom_df[\"Country\"]==\"Hong Kong SAR, China\", \"Country\"] = \"Hong Kong\"\n",
    "freedom_df.loc[freedom_df[\"Country\"]==\"Kyrgyz Republic\", \"Country\"] = \"Kyrgyzstan\"\n",
    "freedom_df.loc[freedom_df[\"Country\"]==\"Russian Federation\", \"Country\"] = \"Russia\"\n",
    "freedom_df.loc[freedom_df[\"Country\"]==\"Slovak Republic\", \"Country\"] = \"Slovakia\"\n",
    "freedom_df.loc[freedom_df[\"Country\"]==\"Syrian Arab Republic\", \"Country\"] = \"Syria\"\n",
    "freedom_df.loc[freedom_df[\"Country\"]==\"Venezuela, RB\", \"Country\"] = \"Venezuela\"\n",
    "freedom_df.loc[freedom_df[\"Country\"]==\"Yemen, Rep.\", \"Country\"] = \"Yemen\"\n"
   ]
  },
  {
   "cell_type": "code",
   "execution_count": null,
   "id": "69a72251-1552-41b0-9b38-441ab2936b20",
   "metadata": {},
   "outputs": [],
   "source": [
    "# verifico la correzione, ho fatto 11 correzioni. dovrei trovarmi 39-11= 28 nomi nella lista dei nomi\n",
    "# che sono in freedom_df ma non in WHR_df\n",
    "print(\"ora i nomi che non combaciano sono:\")\n",
    "len(np.setdiff1d(freedom_df.loc[freedom_df[\"year\"]==2015,\"Country\"], evry_year_country))\n",
    "\n"
   ]
  },
  {
   "cell_type": "code",
   "execution_count": null,
   "id": "6bad821a-a79a-4ff9-be75-a836157cc33e",
   "metadata": {},
   "outputs": [],
   "source": [
    "# mantengo i nomi degli Stati che combaciano\n",
    "\n",
    "# creo nuovo dataframe vuoto, con solo le colonne\n",
    "new_freedom_df = freedom_df.loc[freedom_df[\"Country\"]== \"PaeseInesistente\"] \n",
    "for country in evry_year_country:\n",
    "    new_freedom_df = pd.merge(new_freedom_df, freedom_df.loc[freedom_df[\"Country\"]== country], \n",
    "                              how=\"outer\")\n",
    "    \n",
    "new_freedom_df"
   ]
  },
  {
   "cell_type": "markdown",
   "id": "84b9eabf-144b-488c-b790-a5ba20bf771d",
   "metadata": {},
   "source": [
    "#### -5 valori mancanti"
   ]
  },
  {
   "cell_type": "code",
   "execution_count": null,
   "id": "655e474c-3240-44b1-aacc-e9f13c9eb34d",
   "metadata": {},
   "outputs": [],
   "source": [
    "# percentuali dati mancanti\n",
    "nan_perc = (new_freedom_df.isnull().mean() *100).sort_values(ascending=False)\n",
    "\n",
    "# rappresento\n",
    "print(f\"\"\"\n",
    "PERCENTUALI DATI MANCANTI:\n",
    "\n",
    "{nan_perc}\n",
    "\"\"\")"
   ]
  },
  {
   "cell_type": "code",
   "execution_count": null,
   "id": "7b3ac34e-d004-44e3-92cc-ead651b53af4",
   "metadata": {},
   "outputs": [],
   "source": [
    "# verifico presenza di zeri\n",
    "zero = new_freedom_df.eq(0).sum()\n",
    "\n",
    "# rappresento\n",
    "print(f\"\"\"\n",
    "ZERI NEI DATI:\n",
    "\n",
    "{zero}\n",
    "\"\"\")"
   ]
  },
  {
   "cell_type": "markdown",
   "id": "523c1302-a2cc-4e10-8420-29ba601c7f56",
   "metadata": {
    "tags": []
   },
   "source": [
    "## Carico Malattia"
   ]
  },
  {
   "cell_type": "code",
   "execution_count": null,
   "id": "51b92d52-4c3b-46f0-9f34-70fed715b049",
   "metadata": {},
   "outputs": [],
   "source": [
    "burden_disease_df"
   ]
  },
  {
   "cell_type": "code",
   "execution_count": null,
   "id": "4e957af0-a4a2-4386-9016-61419ac4b522",
   "metadata": {},
   "outputs": [],
   "source": [
    "burden_disease_df.info()"
   ]
  },
  {
   "cell_type": "markdown",
   "id": "d62fa293-665d-4f8a-b91a-33df7d6d808a",
   "metadata": {},
   "source": [
    "i dati sono tutti non-nulli e del tipo corretto a parte per la colonna Code."
   ]
  },
  {
   "cell_type": "markdown",
   "id": "1fe620b0-1ec5-4bf0-a753-e0342ea651b5",
   "metadata": {},
   "source": [
    "### Considerazioni\n",
    "\n",
    "Il dataset contiene i dati dal 1990 al 2019\n",
    "\n",
    "4 colonne: Country, Code, Year, DALYs\n",
    "\n",
    "**FASI:**\n",
    "\n",
    "1. Elimino la colonna Code\n",
    "2. Rinomino le colonne Year e DALYs\n",
    "3. Elimino gli anni prima del 2015\n",
    "4. Gestisco i nomi degli Stati\n",
    "5. Gestisco i dati mancanti\n"
   ]
  },
  {
   "cell_type": "markdown",
   "id": "e87f93b6-8537-4e6d-903e-467d62bb5b33",
   "metadata": {},
   "source": [
    "#### -1 elimino la colonna Code"
   ]
  },
  {
   "cell_type": "code",
   "execution_count": null,
   "id": "545d3c9c-71fc-4799-9e43-5dcc05e97b4d",
   "metadata": {},
   "outputs": [],
   "source": [
    "# elimino la colonna Code\n",
    "burden_disease_df.drop(columns=(\"Code\"), inplace=True)"
   ]
  },
  {
   "cell_type": "code",
   "execution_count": null,
   "id": "3b22c6a5-5c3d-46cd-b0c0-5f0918e4e4fe",
   "metadata": {},
   "outputs": [],
   "source": [
    "burden_disease_df.sample(5)"
   ]
  },
  {
   "cell_type": "markdown",
   "id": "dce7aee5-2ab5-42db-90d5-eac874f18a89",
   "metadata": {},
   "source": [
    "#### -2 rinomino le colonne"
   ]
  },
  {
   "cell_type": "code",
   "execution_count": null,
   "id": "a0b85784-f049-4cf3-8ff5-5152593c953e",
   "metadata": {},
   "outputs": [],
   "source": [
    "#rinomino colonne\n",
    "burden_disease_df.rename(columns={\"DALYs (Disability-Adjusted Life Years) - All causes - Sex: Both - Age: Age-standardized (Rate)\": \"Burden disease (DALYs)\",\n",
    "                                  \"Year\": \"year\",\n",
    "                                 \"Entity\": \"Country\"},\n",
    "                           inplace=True)"
   ]
  },
  {
   "cell_type": "code",
   "execution_count": null,
   "id": "bbe8ef7f-ec23-49b3-9ba0-c3c0a2c7081b",
   "metadata": {},
   "outputs": [],
   "source": [
    "burden_disease_df.sample(5)"
   ]
  },
  {
   "cell_type": "markdown",
   "id": "cab78a09-8bc8-4d79-8ac3-6a9a4910333a",
   "metadata": {},
   "source": [
    "#### -3 gestisco gli anni"
   ]
  },
  {
   "cell_type": "code",
   "execution_count": null,
   "id": "22b8bea8-23d9-4f00-9503-8febb0630c19",
   "metadata": {},
   "outputs": [],
   "source": [
    "# elimino gli anni precedenti al 2015\n",
    "burden_disease_df = burden_disease_df.loc[burden_disease_df[\"year\"]>2014]"
   ]
  },
  {
   "cell_type": "code",
   "execution_count": null,
   "id": "e2546d96-1772-4668-a483-7ffb07bfd97f",
   "metadata": {},
   "outputs": [],
   "source": [
    "burden_disease_df.head(5)"
   ]
  },
  {
   "cell_type": "markdown",
   "id": "73b669ad-90ec-414a-83aa-664a26da0b05",
   "metadata": {},
   "source": [
    "#### -4 gestisco gli Stati"
   ]
  },
  {
   "cell_type": "code",
   "execution_count": null,
   "id": "f80559b2-3adc-4733-a3c9-a24887213167",
   "metadata": {},
   "outputs": [],
   "source": [
    "# numero degli Stati nel dataset\n",
    "disease_country = burden_disease_df[\"Country\"].unique()\n",
    "len(disease_country)"
   ]
  },
  {
   "cell_type": "markdown",
   "id": "66348762-9764-47ad-953b-af3d0c7cd4d5",
   "metadata": {},
   "source": [
    "Il numero è così alto perchè oltre agli Stati sono presenti anche diverse regioni territoriali che comprendono diversi Stati, ad esempio: Africa Region, European Region ...."
   ]
  },
  {
   "cell_type": "code",
   "execution_count": null,
   "id": "170c8092-6406-44ed-ba92-fd4540e974f1",
   "metadata": {},
   "outputs": [],
   "source": [
    "# verifico gli Stati di disease_country che sono presenti anche in evrevry_year_country\n",
    "len(np.intersect1d(disease_country, evry_year_country))"
   ]
  },
  {
   "cell_type": "markdown",
   "id": "d02d2d40-8ecd-4edb-85e9-8ec6628fa72a",
   "metadata": {},
   "source": [
    "137 Paesi sui 145 di WHR_df combaciano\n",
    "\n",
    "verifico, come per i dataset precedenti, possibili somiglianze di nomi"
   ]
  },
  {
   "cell_type": "code",
   "execution_count": null,
   "id": "ae436f6f-1dbe-4ff7-97eb-d0f4bcbe9c26",
   "metadata": {},
   "outputs": [],
   "source": [
    "# cerco gli 8 Paesi in WHR_df che non hanno un corrispettivo in burden_disease_df \n",
    "spaiati = np.setdiff1d(evry_year_country, disease_country)\n",
    "spaiati"
   ]
  },
  {
   "cell_type": "code",
   "execution_count": null,
   "id": "c5f941a2-2e2a-4c79-8ead-a5eb95fc2ee0",
   "metadata": {},
   "outputs": [],
   "source": [
    "# trovo gli Stati di burden_disease_df che non sono in WHR_df\n",
    "C_non_inc = np.setdiff1d(disease_country, evry_year_country)\n",
    "print(f\"gli Stati non inclusi sono {len(C_non_inc)}\")"
   ]
  },
  {
   "cell_type": "code",
   "execution_count": null,
   "id": "5404670a-219d-4eb6-b28a-d0714bf6e224",
   "metadata": {},
   "outputs": [],
   "source": [
    "#cerco somiglianze tra i Paesi che non combaciano\n",
    "for C in C_non_inc:\n",
    "    #cerca una corrispondenza simile\n",
    "    match = difflib.get_close_matches(C, spaiati, n=5, cutoff=0.6)\n",
    "    if match:\n",
    "        print(f\"Possibile somiglianza tra: {C} e {match}\")\n",
    "        \n",
    "    # cerco i Paesi che hanno le prime 5 lettere uguali\n",
    "    for c in spaiati:\n",
    "        if C[0:5] == c[0:5]: # se hanno le prime 5 lettere uguali\n",
    "            print(f\"Iniziano con le stesse lettere: {C} e {c}\")"
   ]
  },
  {
   "cell_type": "code",
   "execution_count": null,
   "id": "78ec7dd8-6983-4b3d-b29e-744574bd471d",
   "metadata": {},
   "outputs": [],
   "source": [
    "# correggo i nomi degli Stati\n",
    "burden_disease_df.loc[burden_disease_df[\"Country\"]==\"Czechia\", \"Country\"] = \"Czech Republic\"\n",
    "burden_disease_df.loc[burden_disease_df[\"Country\"]==\"Congo\", \"Country\"] = \"Congo (Kinshasa)\"\n",
    "burden_disease_df.loc[burden_disease_df[\"Country\"]==\"Palestine\", \"Country\"] = \"Palestinian Territories\"\n"
   ]
  },
  {
   "cell_type": "code",
   "execution_count": null,
   "id": "243eb802-a665-4cc9-875d-d9012b5d148c",
   "metadata": {},
   "outputs": [],
   "source": [
    "# verifico correzioni\n",
    "disease_country = burden_disease_df[\"Country\"].unique()\n",
    "\n",
    "new_spaiati = np.setdiff1d(evry_year_country, disease_country)\n",
    "print(f\"ora i Paesi spaiati sono {len(new_spaiati)}\")"
   ]
  },
  {
   "cell_type": "code",
   "execution_count": null,
   "id": "06a89987-daed-4791-814d-842d3a769f23",
   "metadata": {},
   "outputs": [],
   "source": [
    "# mantengo i nomi degli Stati che combaciano\n",
    "\n",
    "# creo nuovo dataframe vuoto con solo le colonne\n",
    "new_burden_disease_df = burden_disease_df.loc[burden_disease_df[\"Country\"]==\"PaeseInesistente\"] \n",
    "\n",
    "for country in evry_year_country:\n",
    "    new_burden_disease_df = pd.merge(new_burden_disease_df, \n",
    "                                     burden_disease_df.loc[burden_disease_df[\"Country\"]== country], \n",
    "                                     how=\"outer\")\n"
   ]
  },
  {
   "cell_type": "code",
   "execution_count": null,
   "id": "06c67b93-ec8f-45a4-a1e7-3d693a92966e",
   "metadata": {},
   "outputs": [],
   "source": [
    "new_burden_disease_df"
   ]
  },
  {
   "cell_type": "markdown",
   "id": "753a659e-bf6a-446b-b485-03d366194f59",
   "metadata": {},
   "source": [
    "#### -5 valori mancanti"
   ]
  },
  {
   "cell_type": "code",
   "execution_count": null,
   "id": "afd9161f-b432-4921-bcc4-7c4daee6f2a4",
   "metadata": {},
   "outputs": [],
   "source": [
    "# percentuali dati mancanti\n",
    "nan_perc = (new_burden_disease_df.isnull().mean() *100).sort_values(ascending=False)\n",
    "\n",
    "# rappresento\n",
    "print(f\"\"\"\n",
    "PERCENTUALI DATI MANCANTI:\n",
    "\n",
    "{nan_perc}\n",
    "\"\"\")"
   ]
  },
  {
   "cell_type": "code",
   "execution_count": null,
   "id": "28f6031a-6ae7-4f16-ad43-98d9a7e37ba9",
   "metadata": {},
   "outputs": [],
   "source": [
    "# verifico presenza di zeri\n",
    "zero = new_burden_disease_df.eq(0).sum()\n",
    "\n",
    "# rappresento\n",
    "print(f\"\"\"\n",
    "ZERI NEI DATI:\n",
    "\n",
    "{zero}\n",
    "\"\"\")"
   ]
  },
  {
   "cell_type": "markdown",
   "id": "073b7932-542b-4ca3-91c6-320684c69e59",
   "metadata": {
    "tags": []
   },
   "source": [
    "## Disoccupazione"
   ]
  },
  {
   "cell_type": "code",
   "execution_count": null,
   "id": "c53a272e-5403-4581-a60b-10646fe3d344",
   "metadata": {},
   "outputs": [],
   "source": [
    "unemployment_df"
   ]
  },
  {
   "cell_type": "code",
   "execution_count": null,
   "id": "a72401fe-6d01-4b6d-9866-e2cbba5d8d17",
   "metadata": {},
   "outputs": [],
   "source": [
    "unemployment_df.info()"
   ]
  },
  {
   "cell_type": "markdown",
   "id": "3de6b509-9fe0-4dbb-a671-48b82bc4975d",
   "metadata": {},
   "source": [
    "Ad eccezione della colonna Code, le altre colonne sono consistenti e del tipo giusto"
   ]
  },
  {
   "cell_type": "markdown",
   "id": "4ced6f5a-ff74-4d92-84c3-170e55e77af9",
   "metadata": {},
   "source": [
    "### Considerazioni\n",
    "\n",
    "i dati vanno dal 1991 al 2021\n",
    "\n",
    "il dataset è composto da 4 features: Entity, Code, Unemployment, total (% of total labor force) (modeled ILO estimate)\n",
    "\n",
    "**Fasi:**\n",
    "\n",
    "1. Elimino la colonna Code\n",
    "2. Rinomino le colonne\n",
    "3. Gestisco gli anni\n",
    "4. Gestisco i nomi degli Stati\n",
    "5. Gestisco i dati mancanti\n"
   ]
  },
  {
   "cell_type": "markdown",
   "id": "e6a7f1fc-4808-4f73-85a4-63cf0161344b",
   "metadata": {},
   "source": [
    "#### -1 elimino la colonna Code"
   ]
  },
  {
   "cell_type": "code",
   "execution_count": null,
   "id": "fa195825-cf00-4318-aff1-87bef3055621",
   "metadata": {},
   "outputs": [],
   "source": [
    "# elimino colonne\n",
    "unemployment_df = unemployment_df.drop(columns=[\"Code\"])"
   ]
  },
  {
   "cell_type": "code",
   "execution_count": null,
   "id": "ad3646f3-76a1-4f17-a2d3-7a9764d2e35e",
   "metadata": {},
   "outputs": [],
   "source": [
    "unemployment_df.sample(5)"
   ]
  },
  {
   "cell_type": "markdown",
   "id": "1829ba3c-a9c2-42b0-b8a7-2547c15a2fff",
   "metadata": {},
   "source": [
    "#### -2 rinomino le colonne"
   ]
  },
  {
   "cell_type": "code",
   "execution_count": null,
   "id": "1ff9ea56-a287-4d03-8303-872ecd302466",
   "metadata": {},
   "outputs": [],
   "source": [
    "# rinomino colonne\n",
    "unemployment_df = unemployment_df.rename(columns={\"Entity\": \"Country\",\n",
    "                                                  \"Year\": \"year\",\n",
    "                                                  \"Unemployment, total (% of total labor force) (modeled ILO estimate)\": \"Unemployment %\"})\n"
   ]
  },
  {
   "cell_type": "code",
   "execution_count": null,
   "id": "bd5a0b39-75c9-48f9-a96a-8b551672a6da",
   "metadata": {},
   "outputs": [],
   "source": [
    "unemployment_df.sample(5)"
   ]
  },
  {
   "cell_type": "markdown",
   "id": "ec5b50a7-8d2d-411b-833f-28f8d6b70050",
   "metadata": {
    "tags": []
   },
   "source": [
    "#### -3 gestisco gli anni"
   ]
  },
  {
   "cell_type": "code",
   "execution_count": null,
   "id": "c2eb0ce0-0390-4baa-a691-919083700189",
   "metadata": {},
   "outputs": [],
   "source": [
    "# mantengo solo gli anni tra il 2015 e il 2019\n",
    "unemployment_df = unemployment_df.loc[(unemployment_df[\"year\"] > 2014) &  (unemployment_df[\"year\"] < 2020)]"
   ]
  },
  {
   "cell_type": "code",
   "execution_count": null,
   "id": "f49b1c1f-283f-40f3-8348-aff1e8ed8a60",
   "metadata": {},
   "outputs": [],
   "source": [
    "unemployment_df.head(6)"
   ]
  },
  {
   "cell_type": "markdown",
   "id": "795477a6-6dfa-4a93-bf54-330aa29cbdb8",
   "metadata": {},
   "source": [
    "#### -4 gestisco gli Stati"
   ]
  },
  {
   "cell_type": "code",
   "execution_count": null,
   "id": "6b865950-5957-4d39-8f2d-dd93b229a1e8",
   "metadata": {},
   "outputs": [],
   "source": [
    "# numero degli Stati nel dataset\n",
    "unemployment_country = unemployment_df[\"Country\"].unique()\n",
    "len(unemployment_country)"
   ]
  },
  {
   "cell_type": "code",
   "execution_count": null,
   "id": "4d55e63e-2996-486c-a22f-a04ee93d9fb5",
   "metadata": {},
   "outputs": [],
   "source": [
    "# verifico gli Stati di unemployment_country che sono presenti anche in evrevry_year_country\n",
    "len(np.intersect1d(unemployment_country, evry_year_country))"
   ]
  },
  {
   "cell_type": "markdown",
   "id": "91e3d4f4-0b0f-4431-a30d-4699051e6087",
   "metadata": {},
   "source": [
    "137 Paesi sui 145 di WHR_df combaciano\n",
    "\n",
    "verifico, come per i dataset precedenti, possibili somiglianze di nomi"
   ]
  },
  {
   "cell_type": "code",
   "execution_count": null,
   "id": "db936d0e-e3f1-41d4-a61e-82a2e5c53eaf",
   "metadata": {},
   "outputs": [],
   "source": [
    "# cerco i 42 Paesi in TOT_df che non hanno un corrispettivo in unemployment_df \n",
    "spaiati = np.setdiff1d(evry_year_country, unemployment_country)\n",
    "print(f\"i Paesi spaiati sono {len(spaiati)}\")\n",
    "spaiati"
   ]
  },
  {
   "cell_type": "code",
   "execution_count": null,
   "id": "bc58e2ec-33b0-47df-b382-03cafd707844",
   "metadata": {},
   "outputs": [],
   "source": [
    "# trovo gli Stati di unemployment_df che non sono in TOT_df\n",
    "C_non_inc = np.setdiff1d(unemployment_country, evry_year_country)\n",
    "print(f\"gli Stati non inclusi sono {len(C_non_inc)}\")"
   ]
  },
  {
   "cell_type": "code",
   "execution_count": null,
   "id": "295b3f4f-3b3e-44fa-b37f-e4436bc9e55f",
   "metadata": {},
   "outputs": [],
   "source": [
    "#cerco somiglianze tra i Paesi che non combaciano\n",
    "for C in C_non_inc:\n",
    "    #cerca una corrispondenza simile\n",
    "    match = difflib.get_close_matches(C, spaiati, n=5, cutoff=0.6)\n",
    "    if match:\n",
    "        print(f\"Possibile somiglianza tra: {C} e {match}\")\n",
    "        \n",
    "    # cerco i Paesi che hanno le prime 5 lettere uguali\n",
    "    for c in spaiati:\n",
    "        if C[0:5] == c[0:5]: # se hanno le prime 5 lettere uguali\n",
    "            print(f\"Iniziano con le stesse lettere: {C} e {c}\")"
   ]
  },
  {
   "cell_type": "code",
   "execution_count": null,
   "id": "7d98d0af-d75e-4aeb-809d-696aabd77f5a",
   "metadata": {},
   "outputs": [],
   "source": [
    "# correggo i nomi degli Stati\n",
    "\n",
    "unemployment_df.loc[unemployment_df[\"Country\"]==\"Democratic Republic of Congo\", \"Country\"] = \"Congo (Kinshasa)\"\n",
    "unemployment_df.loc[unemployment_df[\"Country\"]==\"Congo\", \"Country\"] = \"Congo (Brazzaville)\"\n",
    "unemployment_df.loc[unemployment_df[\"Country\"]==\"Palestine\", \"Country\"] = \"Palestinian Territories\"\n"
   ]
  },
  {
   "cell_type": "code",
   "execution_count": null,
   "id": "d0678088-2bb1-4372-920e-1632e44a3352",
   "metadata": {},
   "outputs": [],
   "source": [
    "# verifico correzioni\n",
    "unemployment_country = unemployment_df[\"Country\"].unique()\n",
    "\n",
    "new_spaiati = np.setdiff1d(evry_year_country, unemployment_country)\n",
    "print(f\"ora i Paesi spaiati sono {len(new_spaiati)}\")"
   ]
  },
  {
   "cell_type": "code",
   "execution_count": null,
   "id": "65707e57-5c68-469d-8a13-024c2778c686",
   "metadata": {},
   "outputs": [],
   "source": [
    "# mantengo i nomi degli Stati che combaciano\n",
    "\n",
    "# creo nuovo dataframe vuoto, con solo le colonne\n",
    "new_unemployment_df = unemployment_df.loc[unemployment_df[\"Country\"]==\"PaeseInesistente\"] \n",
    "\n",
    "for country in evry_year_country:\n",
    "    new_unemployment_df = pd.merge(new_unemployment_df, unemployment_df.loc[unemployment_df[\"Country\"]== country], how=\"outer\")\n"
   ]
  },
  {
   "cell_type": "code",
   "execution_count": null,
   "id": "68328c36-3620-403b-987f-6a20e563904d",
   "metadata": {},
   "outputs": [],
   "source": [
    "new_unemployment_df"
   ]
  },
  {
   "cell_type": "markdown",
   "id": "bc6c5a64-563a-44a9-998a-bddbe3587ef7",
   "metadata": {},
   "source": [
    "#### -5 valori mancanti"
   ]
  },
  {
   "cell_type": "code",
   "execution_count": null,
   "id": "1290cc49-e204-43a4-ba3d-03beaa6ef07c",
   "metadata": {},
   "outputs": [],
   "source": [
    "# percentuali dati mancanti\n",
    "nan_perc = (new_unemployment_df.isnull().mean() *100).sort_values(ascending=False)\n",
    "\n",
    "# rappresento\n",
    "print(f\"\"\"\n",
    "PERCENTUALI DATI MANCANTI:\n",
    "\n",
    "{nan_perc}\n",
    "\"\"\")"
   ]
  },
  {
   "cell_type": "code",
   "execution_count": null,
   "id": "c920234f-2585-4465-8855-5837dc86dcea",
   "metadata": {},
   "outputs": [],
   "source": [
    "# verifico presenza di zeri\n",
    "zero = new_unemployment_df.eq(0).sum()\n",
    "\n",
    "# rappresento\n",
    "print(f\"\"\"\n",
    "ZERI NEI DATI:\n",
    "\n",
    "{zero}\n",
    "\"\"\")"
   ]
  },
  {
   "cell_type": "markdown",
   "id": "ef75f0e9-e5fd-41cd-aee9-9add8c3706f5",
   "metadata": {
    "tags": []
   },
   "source": [
    "## Anni di scolarizzazione previsti"
   ]
  },
  {
   "cell_type": "code",
   "execution_count": null,
   "id": "5b9f1176-6785-488e-bc9c-b2671492cba2",
   "metadata": {},
   "outputs": [],
   "source": [
    "school_years_df"
   ]
  },
  {
   "cell_type": "code",
   "execution_count": null,
   "id": "181c83ad-c265-4a1e-80ec-68758f964907",
   "metadata": {},
   "outputs": [],
   "source": [
    "school_years_df.info()"
   ]
  },
  {
   "cell_type": "markdown",
   "id": "a3738934-c97d-4bd9-9a71-574181b8e8e4",
   "metadata": {},
   "source": [
    "Ad eccezione della colonna Code, le altre colonne sono consistenti e del tipo giusto"
   ]
  },
  {
   "cell_type": "markdown",
   "id": "d3d210fe-619d-42d9-a1f3-4bc6d7ee5cab",
   "metadata": {},
   "source": [
    "### Considerazioni\n",
    "\n",
    "i dati vanno dal 1990 al 2021\n",
    "\n",
    "il dataset è composto da 4 features: Entity, Code, Expected Years of Schooling\n",
    "\n",
    "**Fasi:**\n",
    "\n",
    "1. Elimino la colonna Code\n",
    "2. Rinomino le colonne\n",
    "3. Gestisco gli anni\n",
    "4. Gestisco i nomi degli Stati\n",
    "5. Gestisco i dati mancanti\n"
   ]
  },
  {
   "cell_type": "markdown",
   "id": "4f1b9aeb-3b7f-4c76-a59d-825b67fde6e7",
   "metadata": {},
   "source": [
    "#### -1 elimino la colonna Code"
   ]
  },
  {
   "cell_type": "code",
   "execution_count": null,
   "id": "562ab710-3a39-4e8d-b937-046716466650",
   "metadata": {},
   "outputs": [],
   "source": [
    "# elimino colonne\n",
    "school_years_df = school_years_df.drop(columns=[\"Code\"])"
   ]
  },
  {
   "cell_type": "code",
   "execution_count": null,
   "id": "ca61dc6a-abc8-459a-b6d6-32b07beb0a20",
   "metadata": {},
   "outputs": [],
   "source": [
    "school_years_df.sample(5)"
   ]
  },
  {
   "cell_type": "markdown",
   "id": "a4850b53-36d5-4932-bd17-6faf1db9a66e",
   "metadata": {},
   "source": [
    "#### -2 rinomino le colonne"
   ]
  },
  {
   "cell_type": "code",
   "execution_count": null,
   "id": "39ffd54c-6a04-4c9e-9e6a-330a07cd265b",
   "metadata": {},
   "outputs": [],
   "source": [
    "# rinomino colonne\n",
    "school_years_df = school_years_df.rename(columns={\"Entity\": \"Country\",\n",
    "                                                  \"Year\": \"year\"})\n"
   ]
  },
  {
   "cell_type": "code",
   "execution_count": null,
   "id": "d4cfa546-98f9-4a4e-891f-161fc7fcb2ab",
   "metadata": {},
   "outputs": [],
   "source": [
    "school_years_df.sample(5)"
   ]
  },
  {
   "cell_type": "markdown",
   "id": "ae3b5baa-f1ad-4065-aa00-5a335c5bc32b",
   "metadata": {
    "tags": []
   },
   "source": [
    "#### -3 gestisco gli anni"
   ]
  },
  {
   "cell_type": "code",
   "execution_count": null,
   "id": "f95d49d5-e59f-4889-b3dc-6f8cd0a8a8df",
   "metadata": {},
   "outputs": [],
   "source": [
    "# mantengo solo gli anni tra il 2015 e il 2019\n",
    "school_years_df = school_years_df.loc[(school_years_df[\"year\"] > 2014) &  (school_years_df[\"year\"] < 2020)]"
   ]
  },
  {
   "cell_type": "code",
   "execution_count": null,
   "id": "f2e0a97b-8f2d-474a-b80b-c2b6663c654d",
   "metadata": {},
   "outputs": [],
   "source": [
    "school_years_df.head(6)"
   ]
  },
  {
   "cell_type": "markdown",
   "id": "0f4e86ba-e961-486b-9df0-5b554ee9397f",
   "metadata": {},
   "source": [
    "#### -4 gestisco gli Stati"
   ]
  },
  {
   "cell_type": "code",
   "execution_count": null,
   "id": "c2005337-dd61-4dad-88f3-c507f2a40422",
   "metadata": {},
   "outputs": [],
   "source": [
    "# numero degli Stati nel dataset\n",
    "school_years_country = school_years_df[\"Country\"].unique()\n",
    "len(school_years_country)"
   ]
  },
  {
   "cell_type": "code",
   "execution_count": null,
   "id": "3dae9f1b-90dc-4f13-886a-4d22397814d1",
   "metadata": {},
   "outputs": [],
   "source": [
    "# verifico gli Stati di school_years_country che sono presenti anche in evrevry_year_country\n",
    "len(np.intersect1d(school_years_country, evry_year_country))"
   ]
  },
  {
   "cell_type": "markdown",
   "id": "79af35ad-b1f2-4b0b-8888-0dd12a7eaec3",
   "metadata": {},
   "source": [
    "137 Paesi sui 145 di WHR_df combaciano\n",
    "\n",
    "verifico, come per i dataset precedenti, possibili somiglianze di nomi"
   ]
  },
  {
   "cell_type": "code",
   "execution_count": null,
   "id": "7917af7b-2124-414f-95af-0cca8178b110",
   "metadata": {},
   "outputs": [],
   "source": [
    "# cerco i Paesi in TOT_df che non hanno un corrispettivo in school_years_df \n",
    "spaiati = np.setdiff1d(evry_year_country, school_years_country)\n",
    "print(f\"i Paesi spaiati sono {len(spaiati)}\")\n",
    "spaiati"
   ]
  },
  {
   "cell_type": "code",
   "execution_count": null,
   "id": "6e834921-77ea-448b-aba6-3528aeceda15",
   "metadata": {},
   "outputs": [],
   "source": [
    "# trovo gli Stati di school_years_df che non sono in TOT_df\n",
    "C_non_inc = np.setdiff1d(school_years_country, evry_year_country)\n",
    "print(f\"gli Stati non inclusi sono {len(C_non_inc)}\")"
   ]
  },
  {
   "cell_type": "code",
   "execution_count": null,
   "id": "a8d17e37-2895-4ef4-9705-a250630bd77d",
   "metadata": {},
   "outputs": [],
   "source": [
    "#cerco somiglianze tra i Paesi che non combaciano\n",
    "for C in C_non_inc:\n",
    "    #cerca una corrispondenza simile\n",
    "    match = difflib.get_close_matches(C, spaiati, n=5, cutoff=0.6)\n",
    "    if match:\n",
    "        print(f\"Possibile somiglianza tra: {C} e {match}\")\n",
    "        \n",
    "    # cerco i Paesi che hanno le prime 5 lettere uguali\n",
    "    for c in spaiati:\n",
    "        if C[0:5] == c[0:5]: # se hanno le prime 5 lettere uguali\n",
    "            print(f\"Iniziano con le stesse lettere: {C} e {c}\")"
   ]
  },
  {
   "cell_type": "code",
   "execution_count": null,
   "id": "418005ca-e0d3-4c80-8666-c2eb23363544",
   "metadata": {},
   "outputs": [],
   "source": [
    "# correggo i nomi degli Stati\n",
    "\n",
    "school_years_df.loc[school_years_df[\"Country\"]==\"Democratic Republic of Congo\", \"Country\"] = \"Congo (Kinshasa)\"\n",
    "school_years_df.loc[school_years_df[\"Country\"]==\"Congo\", \"Country\"] = \"Congo (Brazzaville)\"\n",
    "school_years_df.loc[school_years_df[\"Country\"]==\"Czechia\", \"Country\"] = \"Czech Republic\"\n",
    "school_years_df.loc[school_years_df[\"Country\"]==\"Palestine\", \"Country\"] = \"Palestinian Territories\"\n"
   ]
  },
  {
   "cell_type": "code",
   "execution_count": null,
   "id": "f26c8100-ebb6-4b0d-b1a7-a6bdf6454ba9",
   "metadata": {},
   "outputs": [],
   "source": [
    "# verifico correzioni\n",
    "school_years_country = school_years_df[\"Country\"].unique()\n",
    "\n",
    "new_spaiati = np.setdiff1d(evry_year_country, school_years_country)\n",
    "print(f\"ora i Paesi spaiati sono {len(new_spaiati)}\")"
   ]
  },
  {
   "cell_type": "code",
   "execution_count": null,
   "id": "af141080-e003-41a3-b9af-2fc4f9acf114",
   "metadata": {},
   "outputs": [],
   "source": [
    "# mantengo i nomi degli Stati che combaciano\n",
    "\n",
    "# creo nuovo dataframe vuoto, con solo le colonne\n",
    "new_school_years_df = school_years_df.loc[school_years_df[\"Country\"]==\"PaeseInesistente\"] \n",
    "\n",
    "for country in evry_year_country:\n",
    "    new_school_years_df = pd.merge(new_school_years_df, school_years_df.loc[school_years_df[\"Country\"]== country], how=\"outer\")\n"
   ]
  },
  {
   "cell_type": "code",
   "execution_count": null,
   "id": "900e5c9a-9d8f-4136-b09f-8b70042e8309",
   "metadata": {},
   "outputs": [],
   "source": [
    "new_school_years_df"
   ]
  },
  {
   "cell_type": "markdown",
   "id": "d8893b8b-93f6-486d-8af5-459979c39e48",
   "metadata": {},
   "source": [
    "#### -5 valori mancanti"
   ]
  },
  {
   "cell_type": "code",
   "execution_count": null,
   "id": "5193cdc7-6b4d-4ab3-b2ec-ee602bcd4972",
   "metadata": {},
   "outputs": [],
   "source": [
    "# percentuali dati mancanti\n",
    "nan_perc = (new_school_years_df.isnull().mean() *100).sort_values(ascending=False)\n",
    "\n",
    "# rappresento\n",
    "print(f\"\"\"\n",
    "PERCENTUALI DATI MANCANTI:\n",
    "\n",
    "{nan_perc}\n",
    "\"\"\")"
   ]
  },
  {
   "cell_type": "code",
   "execution_count": null,
   "id": "55dd7048-98a9-465a-9b62-e2b5d8d36175",
   "metadata": {},
   "outputs": [],
   "source": [
    "# verifico presenza di zeri\n",
    "zero = new_school_years_df.eq(0).sum()\n",
    "\n",
    "# rappresento\n",
    "print(f\"\"\"\n",
    "ZERI NEI DATI:\n",
    "\n",
    "{zero}\n",
    "\"\"\")"
   ]
  },
  {
   "cell_type": "markdown",
   "id": "8d6e8d89-72be-4785-8dd7-19b63fb24d60",
   "metadata": {},
   "source": [
    "# Data Transformation "
   ]
  },
  {
   "cell_type": "markdown",
   "id": "bd5bf451-7e3f-445a-9286-d8fe98f3da84",
   "metadata": {},
   "source": [
    "## Mondo"
   ]
  },
  {
   "cell_type": "markdown",
   "id": "f5f3da5c-db00-4398-a257-7a8553682cb9",
   "metadata": {},
   "source": [
    "###  Unisco i DataFrame"
   ]
  },
  {
   "cell_type": "code",
   "execution_count": null,
   "id": "5c997823-d72d-4807-b171-2722c7ec6804",
   "metadata": {},
   "outputs": [],
   "source": [
    "# unisco i dataframe\n",
    "\n",
    "lista_DF = [WHR_df, new_freedom_df, new_burden_disease_df, new_unemployment_df, new_school_years_df] # lista di DF da unire\n",
    "TOT_df = lista_DF[0]\n",
    "for df in lista_DF[1:]:\n",
    "    TOT_df = pd.merge(TOT_df, df, on=[\"year\", \"Country\"], how='outer')"
   ]
  },
  {
   "cell_type": "code",
   "execution_count": null,
   "id": "3462069e-825b-4e93-b16b-049560f741d6",
   "metadata": {},
   "outputs": [],
   "source": [
    "TOT_df.sample(5)"
   ]
  },
  {
   "cell_type": "markdown",
   "id": "9a16824b-4c67-4f5b-a6c0-404c7493b7e9",
   "metadata": {},
   "source": [
    "### Dati mancanti"
   ]
  },
  {
   "cell_type": "markdown",
   "id": "3ab318eb-7307-4f21-8719-14cc7cf22f2f",
   "metadata": {},
   "source": [
    "**Analizzo il nuovo dataframe comprendente tutti i dati di interesse, ripuliti ed ordinati**"
   ]
  },
  {
   "cell_type": "code",
   "execution_count": null,
   "id": "932383ae-a218-4780-9e57-2478ddb3fc93",
   "metadata": {},
   "outputs": [],
   "source": [
    "TOT_df.info()"
   ]
  },
  {
   "cell_type": "code",
   "execution_count": null,
   "id": "5a5f8eda-5708-4212-bf03-a822f69d2fb2",
   "metadata": {},
   "outputs": [],
   "source": [
    "# percentuali dati mancanti\n",
    "nan_perc = (TOT_df.isnull().mean() *100).map(lambda x: round(x,1)).sort_values(ascending=False)\n",
    "\n",
    "print(\"Percentuale di dati mancanti nel DataFrame TOT_df:\")\n",
    "nan_perc"
   ]
  },
  {
   "cell_type": "code",
   "execution_count": null,
   "id": "6b79d5b9-e88e-4901-81f4-96e61d4589e4",
   "metadata": {},
   "outputs": [],
   "source": [
    "# rappresento\n",
    "\n",
    "# genero colori per il grafico\n",
    "colors= get_colors_from_cmap(\"viridis_r\",len(nan_perc))\n",
    "\n",
    "# genero il grafico\n",
    "plt.figure(figsize=(10,6))\n",
    "ax = nan_perc.sort_values().plot(kind=\"barh\", color=colors, width=1)\n",
    "ax.set_xlim(0,10)\n",
    "plt.title(\"percentuale dati mancanti\")\n",
    "ax.bar_label(ax.containers[0], padding=5, fontsize=10)\n",
    "\n",
    "#salvo immagine\n",
    "plt.savefig(\"immagini/percentuale_dati_mancanti.png\", bbox_inches=\"tight\")\n",
    "\n",
    "plt.show()"
   ]
  },
  {
   "cell_type": "code",
   "execution_count": null,
   "id": "14510089-ed06-457a-a6cf-d5e97e914701",
   "metadata": {},
   "outputs": [],
   "source": [
    "# rappresento dati mancanti\n",
    "fig, ax = plt.subplots(figsize=(10,6), ncols=5, nrows=1, sharey=True)\n",
    "fig.subplots_adjust(left=0, right=0.9, bottom=0, top=0.85, wspace=0.01)\n",
    "plt.suptitle(\"Dati mancanti per anno\")\n",
    "\n",
    "for i in range(0,5):\n",
    "    sns.heatmap(TOT_df.loc[TOT_df[\"year\"]==(2015+i)].isnull().transpose(), cbar=False, cmap='viridis', xticklabels=False, ax=ax[i])\n",
    "    ax[i].set_title(2015+i)\n",
    "    \n",
    "#salvo immagine\n",
    "plt.savefig(\"immagini/dati_mancanti_per_anno.png\", bbox_inches=\"tight\")\n",
    "\n",
    "plt.show()"
   ]
  },
  {
   "cell_type": "markdown",
   "id": "1b36f29f-9f63-4f38-a1b9-e0114c9cd3cb",
   "metadata": {
    "jp-MarkdownHeadingCollapsed": true,
    "tags": []
   },
   "source": [
    "#### Considerazioni\n",
    "\n",
    "Le prime 3 features: **year, Country e Happines Score** non hanno dati mancanti, \n",
    "\n",
    "i Dtype delle colonne vanno bene, sono adatti al tipo di dato che rappresentano.\n",
    "\n",
    "Le features con più dati mancanti sono Economic Freedom score e Human Freedom score con il 6,4% di dati mancanti. La percentuale di dati mancanti comunque non è alta e dalla figura \"missing data per year\" i dati mancanti sembrano essere disposti in modo casuale e senza correlazioni significative.\n",
    "\n"
   ]
  },
  {
   "cell_type": "markdown",
   "id": "632c750b-5176-4042-951c-cb818e411b24",
   "metadata": {},
   "source": [
    "### Descrizione dati"
   ]
  },
  {
   "cell_type": "code",
   "execution_count": null,
   "id": "6cb77a15-fc5d-4b77-9993-895f9bf1e4cd",
   "metadata": {},
   "outputs": [],
   "source": [
    "TOT_df.sample(5)"
   ]
  },
  {
   "cell_type": "code",
   "execution_count": null,
   "id": "f1853560-b023-411f-bc5c-ce98b03afb5e",
   "metadata": {},
   "outputs": [],
   "source": [
    "# identifico dimensione DataFrame\n",
    "TOT_df.shape"
   ]
  },
  {
   "cell_type": "code",
   "execution_count": null,
   "id": "44919258-261a-4cc1-9add-83b6acb7f4a9",
   "metadata": {},
   "outputs": [],
   "source": [
    "TOT_df.describe()"
   ]
  },
  {
   "cell_type": "code",
   "execution_count": null,
   "id": "09efe1b1-5675-4806-a791-a899816e6c92",
   "metadata": {},
   "outputs": [],
   "source": [
    "# identifico il numero degli Stati presi in esame\n",
    "TOT_df[\"Country\"].nunique()"
   ]
  },
  {
   "cell_type": "markdown",
   "id": "03534be8-bf61-447c-ab83-5b1575af3c0e",
   "metadata": {},
   "source": [
    "Il dataframe ottenuto dopo la pulizia ed il raggruppamento è formato da **730 righe (146 paesi per 5 anni) e da 15 colonne.**\n",
    "\n",
    "Gli anni presi in considerazione vanno **dal 2015 al 2019.**\n",
    "\n",
    "il dataframe comprende **145 Stati.**\n",
    "\n",
    "**Happiness score ha un valore medio di 5.4** tra tutti gli Stati, il valore minimo è 2.8 ed il massimo è 7.7"
   ]
  },
  {
   "cell_type": "markdown",
   "id": "35936863-4ca4-477a-b597-40a503466d0b",
   "metadata": {},
   "source": [
    "## Unione Europea"
   ]
  },
  {
   "cell_type": "code",
   "execution_count": null,
   "id": "88576d9f-865c-4faa-b6da-4b9f3e2dbb63",
   "metadata": {},
   "outputs": [],
   "source": [
    "# creo lista con nomi degli Stati dell'UE\n",
    "UE_country_list = [\"Austria\", \"Belgium\", \"Bulgaria\", \"Croatia\", \"Cyprus\", \"Czech Republic\", \"Denmark\", \"Estonia\", \"Finland\", \"France\", \"Germany\", \"Greece\", \"Hungary\", \"Ireland\", \"Italy\", \"Latvia\", \"Lithuania\", \"Luxembourg\", \"Malta\", \"Netherlands\", \"Poland\", \"Portugal\", \"Romania\", \"Slovakia\", \"Slovenia\", \"Spain\", \"Sweden\"]\n"
   ]
  },
  {
   "cell_type": "code",
   "execution_count": null,
   "id": "1f14a7d5-1e71-45cf-91e5-e2c0a6aa05ec",
   "metadata": {},
   "outputs": [],
   "source": [
    "# creo dataframe con Paesi UE\n",
    "\n",
    "# creo nuovo dataframe vuoto, con solo le colonne\n",
    "UE_df = TOT_df.loc[TOT_df[\"Country\"]==\"PaeseInesistente\"] \n",
    "\n",
    "# creo il dataframe UE\n",
    "for country in UE_country_list:\n",
    "    UE_df = pd.merge(UE_df, TOT_df.loc[TOT_df[\"Country\"]== country], how=\"outer\")\n",
    "\n",
    "UE_df"
   ]
  },
  {
   "cell_type": "markdown",
   "id": "32703e02-bd0b-42d6-829f-7ba836fa5c94",
   "metadata": {},
   "source": [
    "il nuovo DataFrame UE_df è formato da 135 colonne (tutti i 27 Paesi europei per 5 anni)"
   ]
  },
  {
   "cell_type": "markdown",
   "id": "fd75360a-4886-40eb-8d99-46df4989dab9",
   "metadata": {},
   "source": [
    "## Italia"
   ]
  },
  {
   "cell_type": "code",
   "execution_count": null,
   "id": "35d33bf8-e6d5-473e-9397-d46faa7b23a2",
   "metadata": {},
   "outputs": [],
   "source": [
    "# creo DataFrame con dati dell'Italia\n",
    "ITA_df = TOT_df.loc[TOT_df[\"Country\"]==\"Italy\"]\n",
    "ITA_df"
   ]
  },
  {
   "cell_type": "markdown",
   "id": "cced24cc-d895-4616-a455-d4c20a43fb28",
   "metadata": {},
   "source": [
    "## Andamento HS negli anni"
   ]
  },
  {
   "cell_type": "code",
   "execution_count": null,
   "id": "ff4af054-7323-4e13-871e-e40645318316",
   "metadata": {},
   "outputs": [],
   "source": [
    "# creo un DataFrame che rappresenti l'andamento di HS dell'Italia dell'UE e del mondo negli anni.\n",
    "\n",
    "# raggruppo i df per anno\n",
    "TOT_y_mean = pd.Series(TOT_df.groupby(\"year\")[\"Happiness Score\"].mean(), name=\"HS WORLD\") \n",
    "UE_y_mean = pd.Series(UE_df.groupby(\"year\")[\"Happiness Score\"].mean(), name=\"HS UE\") \n",
    "ITA_y_mean = pd.Series(ITA_df.groupby(\"year\")[\"Happiness Score\"].mean(), name=\"HS ITA\") \n",
    "\n",
    "# Calcolo la deviazione standard per ogni serie\n",
    "UE_y_std = pd.Series(UE_df.groupby(\"year\")[\"Happiness Score\"].std(), name=\"STD UE\")\n",
    "TOT_y_std = pd.Series(TOT_df.groupby(\"year\")[\"Happiness Score\"].std(), name=\"STD WORLD\")\n",
    "\n",
    "# genero nuovo DF con dati che mi interessano\n",
    "IUT_y_df = pd.concat([ITA_y_mean, UE_y_mean, UE_y_std, TOT_y_mean, TOT_y_std], axis=1)\n",
    "# mostro i dati\n",
    "display(IUT_y_df) \n"
   ]
  },
  {
   "cell_type": "markdown",
   "id": "1a361af0-6e36-47a5-8a19-bd7d136d5337",
   "metadata": {},
   "source": [
    "### Classifiche di Felicità"
   ]
  },
  {
   "cell_type": "code",
   "execution_count": null,
   "id": "e6eba338-049e-4065-8b93-84479df371d2",
   "metadata": {},
   "outputs": [],
   "source": [
    "# classifica mondiale\n",
    "WORLD_classifica = TOT_df.groupby(\"Country\")[\"Happiness Score\"].mean().sort_values(ascending=False).round(2).reset_index(drop=False)\n",
    "WORLD_classifica['index'] = range(1, len(WORLD_classifica) + 1)\n",
    "WORLD_classifica.set_index('index', inplace=True)\n",
    "\n",
    "WORLD_classifica"
   ]
  },
  {
   "cell_type": "code",
   "execution_count": null,
   "id": "f61ca046-7cf8-462f-89b2-13d8736a9f08",
   "metadata": {},
   "outputs": [],
   "source": [
    "# classifica UE\n",
    "UE_classifica = UE_df.groupby(\"Country\")[\"Happiness Score\"].mean().sort_values(ascending=False).round(2).reset_index(drop=False)\n",
    "UE_classifica['index'] = range(1, len(UE_classifica) + 1)\n",
    "UE_classifica.set_index('index', inplace=True)\n",
    "\n",
    "UE_classifica"
   ]
  },
  {
   "cell_type": "markdown",
   "id": "ad06afca-8ad6-4e67-a326-bfec058aae11",
   "metadata": {},
   "source": [
    "### Mappa della Felicità"
   ]
  },
  {
   "cell_type": "markdown",
   "id": "ad81e265-7ee1-4207-8ca7-2c514781233b",
   "metadata": {},
   "source": [
    "- prendo le coordinate dei confini degli Stati per poter disegnare la mappa.\n",
    "\n",
    "- aggiusto i nomi degli Stati.\n",
    "\n",
    "- preparo il file per rappresentare la mappa."
   ]
  },
  {
   "cell_type": "code",
   "execution_count": null,
   "id": "03aec2aa-0816-4c2b-8dbe-ee8462b2d4fe",
   "metadata": {},
   "outputs": [],
   "source": [
    "#converto lista nomi degli Stati in set\n",
    "country_set = set(evry_year_country)\n",
    "\n",
    "#carico il file geojson con coordinate dei confini degli Stati\n",
    "with open(\"Data/countries.geojson\") as f:\n",
    "    data_stati = geojson.load(f)\n",
    "\n",
    "# identifico Stati che non combaciano\n",
    "not_matching_names = set(map(lambda x: x['properties']['ADMIN'], data_stati['features'])) - country_set\n",
    "\n",
    "#cerco somiglianze tra i Paesi che non combaciano\n",
    "for C in not_matching_names:\n",
    "    #cerca una corrispondenza simile\n",
    "    match = difflib.get_close_matches(C, country_set, n=4, cutoff=0.7)\n",
    "    if match:\n",
    "        print(f\"Possibile somiglianza tra: {C} e {match}\")\n",
    "        \n",
    "    # cerco i Paesi che hanno le prime 5 lettere uguali\n",
    "    for c in country_set:\n",
    "        if C[0:5] == c[0:5]: # se hanno le prime 5 lettere uguali\n",
    "            print(f\"Iniziano con le stesse lettere: {C} e {c}\")"
   ]
  },
  {
   "cell_type": "code",
   "execution_count": null,
   "id": "589a6dd0-1369-4872-b3b1-35e336490021",
   "metadata": {},
   "outputs": [],
   "source": [
    "# Crea un dizionario per i nomi da sostituire\n",
    "replace_dict = {\"United States of America\": \"United States\", \n",
    "                \"Hong Kong S.A.R.\": \"Hong Kong\", \n",
    "                \"Northern Cyprus\": \"North Cyprus\", \n",
    "                \"Dominica\": \"Dominican Republic\", \n",
    "                \"Palestine\": \"Palestinian Territories\"}\n",
    "\n",
    "#itero sulle feature del file geojson\n",
    "for feature in data_stati['features']:\n",
    "    name = feature['properties']['ADMIN']\n",
    "    new_name = replace_dict.get(name, name) \n",
    "    feature['properties']['ADMIN'] = new_name\n",
    "\n",
    "#salvo il file modificato\n",
    "with open(\"Data/countries_mod.geojson\", \"w\") as f:\n",
    "    geojson.dump(data_stati, f)\n",
    "    "
   ]
  },
  {
   "cell_type": "markdown",
   "id": "174fdbcb-2051-41b5-9fc9-d7b6c57b6f12",
   "metadata": {},
   "source": [
    "# Data Visualization"
   ]
  },
  {
   "cell_type": "markdown",
   "id": "e79b44ac-4f9a-4908-8aac-e68d17c91d93",
   "metadata": {},
   "source": [
    "### Classifica Mondo"
   ]
  },
  {
   "cell_type": "code",
   "execution_count": null,
   "id": "c401bf71-898d-4be7-9170-a684de9e5c62",
   "metadata": {},
   "outputs": [],
   "source": [
    "#grafico della classifica di HS nel mondo\n",
    "\n",
    "#imposto i colori\n",
    "colors = get_colors_from_cmap(\"viridis\", WORLD_classifica.shape[0])\n",
    "\n",
    "# imposto grafico\n",
    "fig, ax = plt.subplots(figsize=(6,35))\n",
    "plt.title(\"Classifica Mondo\")\n",
    "plt.xlabel(\"HS\")\n",
    "\n",
    "# genero grafico e imposto etichette barre\n",
    "sns.barplot(data=WORLD_classifica, orient=\"h\", x=\"Happiness Score\", y=\"Country\", width=0.9, palette=colors, ax=ax) \n",
    "ax.bar_label(ax.containers[0], padding=-30, fontsize=8, color=\"w\") # inserisco valori HS sulle barre\n",
    "\n",
    "# creo yticks con numero classifica e nome Stato\n",
    "yticklabels = []\n",
    "for i, country in enumerate(WORLD_classifica[\"Country\"]):\n",
    "    yticklabels.append(f\"{country}: {i+1}\")\n",
    "ax.set_yticklabels(yticklabels)\n",
    "\n",
    "# evidenzio l'Italia\n",
    "italy_index = WORLD_classifica[WORLD_classifica['Country'] == 'Italy'].index[0]-1\n",
    "ax.containers[0][italy_index].set_edgecolor(\"red\")\n",
    "ax.containers[0][italy_index].set_linewidth(2)\n",
    "\n",
    "# aggiungo linea della media\n",
    "ax.axvline(WORLD_classifica[\"Happiness Score\"].mean(), color=\"orange\", label=\"Media\")\n",
    "\n",
    "# gestisco legenda\n",
    "plt.legend(bbox_to_anchor=(1,1))\n",
    "\n",
    "#salvo immagine\n",
    "plt.savefig(\"immagini/classifica_mondo_hs.png\", bbox_inches=\"tight\")\n",
    "\n",
    "plt.show()"
   ]
  },
  {
   "cell_type": "markdown",
   "id": "630b6533-2127-41f3-b302-fe966a8af270",
   "metadata": {},
   "source": [
    "Il grafico soprastante mostra la classifica degli Stati del mondo per punteggio Happiness Score.\n",
    "\n",
    "**I primi Paesi per felicità sono la Danimarca, Norvegia e la Finlandia ed i Paesi Bassi** con rispettivamente un punteggio di 7.55, 7.54 e 7.54.\n",
    "\n",
    "**I Paesi più infelici del mondo sono il Burundi, la Syria ed il Rwanda** con un punteggio rispettivamente di 3.08, 3,29 e 3.44.\n",
    "\n",
    "**La media di Happiness Score è di 5.4.**\n",
    "\n",
    "**L'Italia si trova in 45° posizione con una media di 6.02**, sopra alla media globale."
   ]
  },
  {
   "cell_type": "markdown",
   "id": "bdef7f98-ec2a-4225-b2cb-27e360030c00",
   "metadata": {},
   "source": [
    "### Classifica UE"
   ]
  },
  {
   "cell_type": "code",
   "execution_count": null,
   "id": "fd4098be-7b84-47d6-b4b2-ad868cdecf62",
   "metadata": {},
   "outputs": [],
   "source": [
    "#grafico della classifica di HS in Unione Europea\n",
    "\n",
    "#imposto i colori\n",
    "colors = get_colors_from_cmap(\"viridis\", UE_classifica.shape[0])\n",
    "\n",
    "# imposto grafico\n",
    "fig, ax = plt.subplots(figsize=(6,10))\n",
    "plt.title(\"Classifica UE\")\n",
    "plt.xlabel(\"HS\")\n",
    "\n",
    "# creo grafico ed etichette\n",
    "sns.barplot(data=UE_classifica, orient=\"h\", x=\"Happiness Score\", y=\"Country\", palette=colors, ax=ax) \n",
    "ax.bar_label(ax.containers[0], padding=-30, fontsize=10, color=\"w\") # inserisco valori HS sulle barre\n",
    "\n",
    "# creo yticks con numero classifica e nome stato\n",
    "yticklabels = []\n",
    "for i, country in enumerate(UE_classifica[\"Country\"]):\n",
    "    yticklabels.append(f\"{country}: {i+1}\")\n",
    "ax.set_yticklabels(yticklabels)\n",
    "\n",
    "# evidenzio l'Italia\n",
    "italy_index = UE_classifica[UE_classifica['Country'] == 'Italy'].index[0]-1\n",
    "ax.containers[0][italy_index].set_edgecolor(\"red\")\n",
    "ax.containers[0][italy_index].set_linewidth(2)\n",
    "# aggiungo line della media\n",
    "ax.axvline(UE_classifica[\"Happiness Score\"].mean(), color=\"orange\", label=\"Media\")\n",
    "\n",
    "plt.legend(bbox_to_anchor=(1,1))\n",
    "\n",
    "#salvo immagine\n",
    "plt.savefig(\"immagini/classifica_UE_hs.png\", bbox_inches=\"tight\")\n",
    "\n",
    "plt.show()"
   ]
  },
  {
   "cell_type": "markdown",
   "id": "9e89a697-c376-4644-859a-5cea38c57b75",
   "metadata": {},
   "source": [
    "Il grafico soprastante mostra la classifica degli Stati UE per punteggio Happiness Score.\n",
    "\n",
    "**I primi Paesi per felicità sono la Danimarca, la Finlandia ed i Paesi Bassi** con rispettivamente un punteggio di 7.55, 7.54 e 7.40.\n",
    "\n",
    "**I Paesi più infelici dell'Unione Europea sono la Bulgaria, la Grecia ed il Portogallo** con un punteggio rispettivamente di 4.62, 5.15 e 5.3.\n",
    "\n",
    "**La media di Happiness Score in Unione Europea è di 6.27.**\n",
    "\n",
    "**L'Italia si trova in 15° posizione con una media di 6.02**"
   ]
  },
  {
   "cell_type": "markdown",
   "id": "090ba4df-cd43-42b8-9626-9fb8742d49c3",
   "metadata": {},
   "source": [
    "### Mappa della Felicità"
   ]
  },
  {
   "cell_type": "markdown",
   "id": "6be8f091-d3ee-4f12-b82f-0e98e7accaff",
   "metadata": {},
   "source": [
    "#### Mondo"
   ]
  },
  {
   "cell_type": "code",
   "execution_count": null,
   "id": "309241a4-236a-4e2b-aa4b-4e9f353f333e",
   "metadata": {},
   "outputs": [],
   "source": [
    "# genero la mappa Mondo\n",
    "mappaMondo = folium.Map(location=[43,12], \n",
    "                   zoom_start=1.5, \n",
    "                   tiles=\"Stamen Watercolor\", \n",
    "                   width='100%', \n",
    "                   height='80%',\n",
    "                   no_touch=True,\n",
    "                   zoom_control=False)\n",
    "\n",
    "# aggiungo i confini\n",
    "folium.GeoJson(\"Data/countries_mod.geojson\").add_to(mappaMondo)\n",
    "\n",
    "# coloro in base a Happiness Score\n",
    "folium.Choropleth(\n",
    "    geo_data=data_stati,\n",
    "    data=WORLD_classifica,\n",
    "    columns=(\"Country\", \"Happiness Score\"),\n",
    "    key_on=\"feature.properties.ADMIN\",\n",
    "    bins=20,\n",
    "    fill_color=\"viridis\",\n",
    "    nan_fill_color='black',\n",
    "    fill_opacity=0.8,\n",
    "    line_color='black',\n",
    "    line_weight=1,\n",
    "    line_opacity=1,\n",
    "    legend_name='Happiness Score').add_to(mappaMondo)\n",
    "\n",
    "#salvo immagine\n",
    "mappaMondo.save(\"immagini/mappa_mondo_hs.html\")\n",
    "\n",
    "mappaMondo\n"
   ]
  },
  {
   "cell_type": "markdown",
   "id": "b8d58ebe-dd8e-40f1-89c8-2d0d13766c50",
   "metadata": {},
   "source": [
    "La mappa mostra il **valore di HS nei diversi Stati del mondo** (media dei 5 anni presi in considerazione).\n",
    "\n",
    "Si può notare come **i Paesi del nord Europa e del nord America siano i più felici insieme all'Australia.**\n",
    "\n",
    "**I Paesi con indice di felicità più basso invece sono distribuiti principalmente nel continente africano e nel sud-ovest asiatico.**"
   ]
  },
  {
   "cell_type": "markdown",
   "id": "f7d3d7a6-e2e3-4568-9ea7-b7e724c5e786",
   "metadata": {},
   "source": [
    "#### Unione Europea"
   ]
  },
  {
   "cell_type": "code",
   "execution_count": null,
   "id": "fb225064-7305-419e-9696-f8b4c285a5aa",
   "metadata": {},
   "outputs": [],
   "source": [
    "# genero la mappa UE\n",
    "mappaUE = folium.Map(location=[55,15], \n",
    "                   zoom_start=3.4, \n",
    "                   tiles=\"Stamen Watercolor\", \n",
    "                   width='100%', \n",
    "                   height='80%',\n",
    "                   no_touch=True,\n",
    "                   zoom_control=False)\n",
    "\n",
    "# aggiungo i confini\n",
    "folium.GeoJson(\"Data/countries_mod.geojson\").add_to(mappaUE)\n",
    "\n",
    "# coloro in base a Happiness Score\n",
    "folium.Choropleth(\n",
    "    geo_data=data_stati,\n",
    "    data=UE_classifica,\n",
    "    columns=(\"Country\", \"Happiness Score\"),\n",
    "    key_on=\"feature.properties.ADMIN\",\n",
    "    bins=20,\n",
    "    fill_color=\"viridis\",\n",
    "    nan_fill_color='black',\n",
    "    fill_opacity=0.8,\n",
    "    line_color='black',\n",
    "    line_weight=1,\n",
    "    line_opacity=1,\n",
    "    legend_name='Happiness Score').add_to(mappaUE)\n",
    "\n",
    "#salvo immagine\n",
    "mappaUE.save(\"immagini/mappa_UE_hs.html\")\n",
    "\n",
    "mappaUE"
   ]
  },
  {
   "cell_type": "markdown",
   "id": "c1f08487-e5a4-4923-b9bc-dff8552ee67d",
   "metadata": {},
   "source": [
    "Per quanto riguarda l'**Unione Europea** si può osservare che **i Paesi con HS più alto sono quelli del nord (Danimarca, Svezia, Finlandia...)** mentre **i più infelici quelli del sud-est (Grecia, Ungheria, Bulgaria) ed il Portogallo.**\n",
    "\n"
   ]
  },
  {
   "cell_type": "markdown",
   "id": "805c3d2b-c419-433d-8ea2-8490221a3cb9",
   "metadata": {},
   "source": [
    "### Distribuzione HS"
   ]
  },
  {
   "cell_type": "code",
   "execution_count": null,
   "id": "a10a4479-7b93-4726-9a29-30cf61c74145",
   "metadata": {},
   "outputs": [],
   "source": [
    "# metto a confronto le distribuzioni ed i valori di HS\n",
    "plt.figure(figsize=(10,6))\n",
    "plt.title(\"distribuzione di Happiness Score, confronto tra Mondo, Unione Europea ed Italia\")\n",
    "colors = get_colors_from_cmap(\"viridis\",3) #identifico i colori del grafico\n",
    "\n",
    "# distribuzione e media globale\n",
    "TOT_media = np.round(TOT_df[\"Happiness Score\"].mean(),2)\n",
    "sns.histplot(data=TOT_df[\"Happiness Score\"], kde=True, color=colors[0])\n",
    "plt.axvline(TOT_media, label=f'World, media = {TOT_media}', color=colors[0], linewidth=2)\n",
    "\n",
    "# distribuzione e media europea\n",
    "UE_media = np.round(UE_df[\"Happiness Score\"].mean(),2)\n",
    "sns.histplot(data=UE_df[\"Happiness Score\"], kde=True, color=colors[1])\n",
    "plt.axvline(UE_media, label=f'UE, media = {UE_media}', color=colors[1], linewidth=2)\n",
    "\n",
    "# media italiana\n",
    "ITA_media = np.round(ITA_df[\"Happiness Score\"].mean(),2)\n",
    "plt.axvline(ITA_media, label=f'ITA, media = {ITA_media}', color=colors[2], linewidth=2)\n",
    "\n",
    "# creo la legenda e modifico settaggi\n",
    "legend = plt.legend(loc=2)\n",
    "for line in legend.get_lines():\n",
    "    line.set_linewidth(5)\n",
    "\n",
    "#salvo immagine\n",
    "plt.savefig(\"immagini/distribuzione_hs.png\", bbox_inches=\"tight\")\n",
    "    \n",
    "plt.show()"
   ]
  },
  {
   "cell_type": "markdown",
   "id": "9e4f01d6-48b4-4896-a6b7-10f61838170a",
   "metadata": {},
   "source": [
    "Dal grafico delle distribuzioni si nota come i **Paesi dell'UE abbiano mediamente un valore di HS più elevato rispetto al resto del mondo**. I punteggi di HS in UE infatti vanno da 4.5 a 7.5 circa con media 6.27 rispetto ai dati di HS globali che partano da un valore di circa 2.5 con una media di 5.4.\n",
    "\n",
    "Si nota inoltre che il valore medio di **HS in Italia è di 6.02, maggiore della media globale ma minore della media europea. **\n"
   ]
  },
  {
   "cell_type": "markdown",
   "id": "fe054a2c-43c5-4a54-8e5b-e7b2044cea24",
   "metadata": {},
   "source": [
    "### Andamento HS negli anni"
   ]
  },
  {
   "cell_type": "code",
   "execution_count": null,
   "id": "d6e3d8b1-bc3a-4a22-8db1-54ca44c69ca7",
   "metadata": {},
   "outputs": [],
   "source": [
    "#genero il grafico\n",
    "colors = get_colors_from_cmap(\"viridis\", 3) # imposto i colori\n",
    "fig, ax = plt.subplots(figsize=(10,6))\n",
    "\n",
    "# Disegnare andamento HS nel tempo e deviazione std\n",
    "ax.errorbar(TOT_y_mean.index+0.02, TOT_y_mean.values, yerr=TOT_y_std.values, \n",
    "            fmt='->', color=colors[0], markersize=10, linewidth=4, ecolor='gray', \n",
    "            elinewidth=1, capsize=5, label=\"WORLD\") #mondo\n",
    "ax.errorbar(UE_y_mean.index-0.02, UE_y_mean.values, yerr=UE_y_std.values,  \n",
    "            fmt='->', color=colors[1], markersize=10, linewidth=4, ecolor='k', \n",
    "            elinewidth=1, capsize=10, label=\"UE\") #UE\n",
    "ax.plot(ITA_y_mean, color=colors[2], linewidth=4, marker=\">\", markersize=10, \n",
    "        label=\"ITA\") #ITA\n",
    "ax.set_xticks([2015,2016,2017,2018,2019])\n",
    "\n",
    "plt.legend(bbox_to_anchor=(1,1),handleheight=2)\n",
    "\n",
    "#salvo immagine\n",
    "plt.savefig(\"immagini/andamento_negli_anni_hs.png\", bbox_inches=\"tight\")\n",
    "\n",
    "plt.show()\n"
   ]
  },
  {
   "cell_type": "markdown",
   "id": "3c359419-2c4c-46b7-a203-aa5fa6158fa9",
   "metadata": {},
   "source": [
    "Si può osservare un **andamento crescente di tutte e tre le medie di HS**. \n",
    "La media globale incrementa di poco il proprio valore negli anni, solo 0.1 punti.\n",
    "L'Unione Europea e l'Italia incrementano leggermente di più, aumentando di 0.3 punti in 5 anni.\n",
    "\n",
    "Si osserva inoltre che **la media di HS dell'UE rimane la più alta delle tre per tutti i 5 anni**, seguita dall'Italia ed infine dal mondo.\n",
    "\n",
    "Si osserva che la media di **HS in Italia è sempre più bassa della media Europea ma più alta della media globale.\n",
    "\n",
    "Rispetto al contesto socio-economico in cui il nostro Paese vive ed agisce (UE) l'Italia risulta avere un indice HS più basso.\n",
    "\n",
    "Proviamo a capire se ci sono parametri correlati ad HS che l'Italia potrebbe migliorare."
   ]
  },
  {
   "cell_type": "markdown",
   "id": "5d49373f-2a65-4b11-90bc-2b08df70da7e",
   "metadata": {},
   "source": [
    "### Correlazioni con HS"
   ]
  },
  {
   "cell_type": "code",
   "execution_count": null,
   "id": "a54fadaa-c885-4585-840a-c1103b27d6e5",
   "metadata": {},
   "outputs": [],
   "source": [
    "# cerco correlazioni tra le colonne e HS per identificare le features più importanti su cui poter agire\n",
    "\n",
    "fig, axs = plt.subplots(1, 2, figsize=(6, 5), sharey=True)\n",
    "fig.suptitle(\"Correlazioni con HS\")\n",
    "axs[0].set_title(\"World\")\n",
    "axs[1].set_title(\"UE\")\n",
    "\n",
    "# Calcolo la matrice di correlazione per ogni DataFrame\n",
    "TOT_corr = TOT_df.corr(numeric_only=True)\n",
    "UE_corr = UE_df.corr(numeric_only=True)\n",
    "\n",
    "# Seleziono la colonna 'Happiness Score'\n",
    "score_corr_TOT = TOT_corr['Happiness Score']\n",
    "score_corr_UE = UE_corr['Happiness Score']\n",
    "\n",
    "# Disegno il grafico di heatmap per ogni DataFrame\n",
    "sns.heatmap(score_corr_TOT.to_frame(), annot=True, cmap=\"viridis\", ax=axs[0])\n",
    "sns.heatmap(score_corr_UE.to_frame(), annot=True, cmap=\"viridis\", ax=axs[1])\n",
    "\n",
    "#salvo immagine\n",
    "plt.savefig(\"immagini/correlazioni_mondo-UE_hs.png\", bbox_inches=\"tight\")\n",
    "\n",
    "plt.show()\n"
   ]
  },
  {
   "cell_type": "code",
   "execution_count": null,
   "id": "fbcfd812-34b5-41f6-83ac-e488af396365",
   "metadata": {},
   "outputs": [],
   "source": [
    "# grafico solo UE ordinato per correlazione\n",
    "\n",
    "# ordino\n",
    "sorted_score_corr_UE = score_corr_UE.sort_values(ascending=False)\n",
    "# imposto grafico\n",
    "fig, ax = plt.subplots(figsize=(4,6))\n",
    "plt.title(\"Correlazioni con Happiness Score nei Paesi UE\\n\", fontdict={\"fontsize\":15})\n",
    "sns.heatmap(sorted_score_corr_UE.to_frame(), annot=True, cmap=\"viridis\",linewidths=1, linecolor='k', ax=ax)\n",
    "\n",
    "#salvo immagine\n",
    "plt.savefig(\"immagini/correlazioni_UE_sorted.png\", bbox_inches=\"tight\")\n",
    "\n",
    "plt.show()"
   ]
  },
  {
   "cell_type": "markdown",
   "id": "e5478fc7-dedc-4b04-a2cb-3adf4e61d2b5",
   "metadata": {},
   "source": [
    "I valori ed i colori nella tabella soprastante rappresentano il **grado di correlazione tra le varie colonne del DataFrame e HS.**\n",
    "**Valori negativi** indicano una **correlazione inversa** con grado che aumenta da 0 a -1.\n",
    "**Valori positivi** indicano invece una **correlazione di tipo diretto** con grado che aumenta da 0 a 1.\n",
    "\n",
    "I grafici riguardanti il mondo, a sinistra, e gli Stati dell'Unione Europea, a destra, sono affiancati.\n",
    "\n",
    "Le due heatmap sono simili ma non uguali, sono infatti presenti delle differenze importanti per questa analisi.\n",
    "\n",
    "**Queste differenze fanno capire che in base alla zona del mondo, alla situazione socio-economica e culturale, cambia il modo in cui un determinato parametro influenza il benessere dei cittadini.**\n",
    "\n",
    "Di conseguenza risulta fondamentale capire il contesto socio-politico-culturale del Paese per poter attuare azioni politiche mirate all'incremento della felicità dei cittadini.\n",
    "\n",
    "**Per questo motivo confrontare i dati dell'Italia con quelli dell'Unione Europea, invece che con quelli mondiali, risulta più appropriato in quanto il contesto sociale, politico ed economico è più simile.**\n",
    "\n",
    "Analizzando il grafico riguardante l'Unione Europea si osserva che:\n",
    "- Le uniche colonne **correlate negativamente con HS sono Burden disease(DALYs) e Unemployment%, rispettivmente con valori di -0.6 e -0.33.**\n",
    "- la colonna con **indice di correlazione più alto è Trust (Government Corruption)** che indica il grado di fiducia nelle istituzioni da parte dei cittadini, con un valore di **0.84**\n",
    "- la colonna con la minore correlazione è **year**, che sta ad indicare un **lieve incremento di HS negli anni** ma non molto significativo\n",
    "- **tutte le altre colonne sono correlate positivamente con un indice tra lo 0.43 e lo 0.73**\n"
   ]
  },
  {
   "cell_type": "markdown",
   "id": "0ceb941b-ca58-4e7e-96bb-3664ee48c557",
   "metadata": {},
   "source": [
    "### Parametri correlati ad HS  --> ITA vs UE"
   ]
  },
  {
   "cell_type": "code",
   "execution_count": null,
   "id": "5f40fc76-b6ad-4728-a1dc-8b69e019684b",
   "metadata": {},
   "outputs": [],
   "source": [
    "#imposto i colori\n",
    "colors = get_colors_from_cmap(\"viridis\", 3)\n",
    "\n",
    "# Calcolo media e std \n",
    "mean_df = UE_df.groupby('Country').mean(numeric_only=True) # media per ogni stato\n",
    "std_df = UE_df.groupby('Country').std(numeric_only=True) # std per ogni stato\n",
    "mean_all = UE_df.mean(numeric_only=True) # media totale\n",
    "std_all = UE_df.std(numeric_only=True) # std totale\n",
    "\n",
    "# imposto il grafico\n",
    "fig, axs = plt.subplots(nrows=3, ncols=4, figsize=(10, 10))\n",
    "axs=axs.ravel()\n",
    "\n",
    "#itero attraverso le colonne del DataFrame per creare i diversi assi\n",
    "for idx, column in enumerate(UE_df.columns[3:]):\n",
    "    axs[idx].bar(mean_df.loc['Italy'].name, mean_df.loc['Italy'][column], \n",
    "                 color=colors[2], label=\"ITA\") # barra ITA\n",
    "    axs[idx].bar(\"mean\", mean_all[column], color=colors[1], label=\"Media UE\") # barra UE\n",
    "    axs[idx].errorbar(\"mean\", mean_all[column], std_all[column], \n",
    "                      fmt='', capsize=150, color='k', label=\"dev.std\") # error bar\n",
    "    axs[idx].set_title(column)\n",
    "    axs[idx].set_ylim(mean_all[column]-(1.5*std_all[column]),\n",
    "                      mean_all[column]+(1.5*std_all[column])) # regolo ylim in base a std\n",
    "\n",
    "plt.suptitle(\"Parametri correlati ad HS,  ITA vs UE\", horizontalalignment=\"right\")\n",
    "plt.tight_layout()\n",
    "\n",
    "# imposto la legenda\n",
    "dev_std_handle = axs[idx].errorbar(\"mean\", mean_all[column], std_all[column],\n",
    "                      fmt='', capsize=5, color='k', label=\"dev.std\") # handle dev std\n",
    "ITA_handle = axs[idx].bar(mean_df.loc['Italy'].name, mean_df.loc['Italy'][column], \n",
    "                 color=colors[2], label=\"ITA\") # handle ITA\n",
    "UE_handle = axs[idx].bar(\"mean\", mean_all[column], color=colors[1], label=\"Media UE\") # handle UE\n",
    "\n",
    "plt.legend(handles=[ITA_handle, UE_handle, dev_std_handle], bbox_to_anchor=(1, 3.8),ncols=4, frameon=True)\n",
    "\n",
    "#salvo immagine\n",
    "plt.savefig(\"immagini/parametri_correlati_ITA_vs_UE.png\", bbox_inches=\"tight\")\n",
    "\n",
    "plt.show()"
   ]
  },
  {
   "cell_type": "markdown",
   "id": "f38c1086-a4c9-4174-88da-ed1e25482997",
   "metadata": {},
   "source": [
    "I grafici soprastanti mettono in evidenza la differenza tra i valori correlati ad HS dell'Italia e della media in UE.\n",
    "\n",
    "Le differenze più significative riguardano: la libertà di fare scelte di vita ed il carico di malattia, che hanno una differenza maggiore ad una deviazione standard. \n",
    "\n",
    "**La libertà di fare scelte di vita** , che ha una correlazione con HS di **0.73, risulta minore in Italia rispetto alla media UE. Questo indica come incida fortemente sulla felicità della popolazione ed è un aspetto su cui focalizzare l'attenzione.**\n",
    "\n",
    "**Il carico di malattia**, che ha un indice di correlazione negativo con HS, pari a **-0.6, è minore in Italia rispetto alla media UE, ad indicare la migliore situazione sanitaria italiana. Questo è confermato anche dal valore dell'aspettativa di vita che, anche se in minor misura, indica una situazione migliore in Italia.**\n",
    "\n",
    "**La fiducia nelle istituzioni** (Trust), che ha l'indice di correlazione con HS più alto, pari a **0.84, risulta minore in Italia quasi di una deviazione standard. Questo indica che la fiducia nelle istituzioni è un aspetto cruciale su cui l'Italia dovrebbe lavorare per aumentare la felicità dei cittadini.**\n",
    "\n",
    "**La disoccupzione**, con indice di correlazione **-0.33, risulta maggiore in Italia indicando una situazione peggiore nel nostro Paese rispetto alla media UE.** Tuttavia la differenza rispetto alla media UE non è elevata e l'indice di correlazione non sembra molto rilevante. Questo indica che la disoccupazione è un aspetto su cui l'Italia potrebbe lavorare per incrementare l'Happiness Score italiano ma non è un aspetto cruciale come i parametri visti precedentemente.\n",
    "\n",
    "Per gli altri parametri la differenza tra Italia ed UE è irrisoria indicando che la situazione italiana in questi ambiti è in linea con quella europea."
   ]
  },
  {
   "cell_type": "markdown",
   "id": "0606300e-27f9-4bf5-abab-48f15ba9eb51",
   "metadata": {},
   "source": [
    "### Andamento parametri correlati ad HS"
   ]
  },
  {
   "cell_type": "code",
   "execution_count": null,
   "id": "1cf9aa14-2e59-4eb8-bcc8-00d9a6a2be75",
   "metadata": {},
   "outputs": [],
   "source": [
    "# seleziono colori grafico\n",
    "colors=get_colors_from_cmap(\"viridis\", 3) \n",
    "\n",
    "fig, axs = plt.subplots(nrows=4, ncols=3, figsize=(10,10), sharex=True)\n",
    "axs=axs.ravel()\n",
    "\n",
    "for i, column in enumerate(UE_df.columns[3:]):\n",
    "    \n",
    "    UEf_grouped = UE_df.groupby(\"year\")[column].mean() # raggruppo per anno\n",
    "    UEf_std = UE_df.groupby(\"year\")[column].std() # prendo dev std UE\n",
    "    ITAf_grouped = ITA_df.groupby(\"year\")[column].mean() # raggruppo per anno\n",
    "    # grafico UE\n",
    "    axs[i].errorbar(UEf_grouped.index, UEf_grouped.values, \n",
    "                            yerr=UEf_std.values,  fmt='->', color=colors[1], \n",
    "                            markersize=7, linewidth=2, ecolor='black', \n",
    "                            elinewidth=1, capsize=3, label=\"UE\")\n",
    "    # grafico ITA\n",
    "    axs[i].plot(ITAf_grouped, color=colors[2], linewidth=2, marker=\">\", label=\"ITA\")\n",
    "    axs[i].set_title(column) # titoli assi\n",
    "    axs[i].set_xticks=[UEf_grouped.index]\n",
    "\n",
    "\n",
    "fig.suptitle(\"Andamento parametri nel tempo: ITA vs UE\")\n",
    "plt.tight_layout()\n",
    "legend = plt.legend(ncol=2, bbox_to_anchor=(-0.5, 5.25), frameon=True)\n",
    "\n",
    "#salvo immagine\n",
    "plt.savefig(\"andamento_parametri_nel_tempo_ITA_vs_UE.png\", bbox_inches=\"tight\")\n",
    "\n",
    "plt.show()\n"
   ]
  },
  {
   "cell_type": "markdown",
   "id": "070a4d7b-99d6-4957-871c-89669671309e",
   "metadata": {},
   "source": [
    "i grafici soprastanti mostrano l'andamento negli anni dei diversi parametri rappresentati dalle colonne del DataFrame dell'Italia e dell'Unione Europea.\n",
    "\n",
    "si può osservare che:\n",
    "- Economy (GDP per capita), Social Support, Human Freedom Score, Personal Freedom Score e Generosity hanno valori simili ed un andamento negli anni comparabile.\n",
    "\n",
    "- La colonna con la correlazione più alta con HS, **Trust (Government corruption) (correlazione con HS 0.84) ha un andamento simile tra Italia e UE ma con valori sempre inferiori in Italia. La differenza è di quasi una deviazione standard. Questi dati indicano che in Italia la fiducia nelle istituzioni è poca e questo incide molto sulla felicità della popolazione.**\n",
    "\n",
    "- La seconda colonna per correlazione con HS è **Freedom to make life choices, con valore di 0.73**. Nel grafico soprastante si può notare come l'**Italia abbia valori** di Freedom to make life choices **costantemente inferiori alla media UE di oltre una dev. std. Questo indica che la libertà di fare scelte di vita è un aspetto cruciale su cui focalizzare l'attenzione per poter aumentare il benessere dei cittadini.**\n",
    "\n",
    "- **Dal punto di vista sanitario l'Italia sembra invece trovarsi in una situazione migliore rispetto alla media dell'UE. Sia i dati sull'aspettativa di vita che quelli sul carico di malattia sono migliori rispetto alla media europea.** L'aspettativa di vita infatti è sempre maggiore della media europea mentre il carico di malattia è inferiore alla media UE in tutti gli anni, entrambi con una differenza pari o poco superiore ad una dev.std.\n",
    "\n",
    "- I dati riguardanti gli **anni previsti di scolarizzazione indicano un andamento similare tra Italia e UE ma con valori leggermente inferiori in Italia.** La differenza è minore di metà della dev. std.\n",
    "\n",
    "- Per quanto riguarda la **libertà economica troviamo una situazione simile alla precedente ma con una leggera tendenza al peggioramento in Italia.**\n",
    "\n",
    "- **La percentuale di disoccupazione infine indica un miglioramento graduale negli anni sia in Italia che in UE ma con valori di disoccupazione sempre minori in UE e un miglioramento meno deciso in Italia.** la differenza aumenta negli anni fino a superare una dev. std. nel 2019.\n"
   ]
  },
  {
   "cell_type": "markdown",
   "id": "e7596a4a-2443-4e4c-a2d7-539b34b7cd58",
   "metadata": {},
   "source": [
    "# Conclusioni"
   ]
  },
  {
   "cell_type": "markdown",
   "id": "3ee78aef-5259-454e-84b8-4645beec13d5",
   "metadata": {},
   "source": [
    "L'analisi condotta permette di fare le seguenti considerazioni:\n",
    "\n",
    "- **L'indice di felicità in Italia (6.0) risulta maggiore rispetto alla media globale (5.4) ma è minore rispetto alla media UE (6.3).**\n",
    "\n",
    "- L'Italia si trova al **45**° posto nella classifica globale per HS e al **15°** in quella europea.\n",
    "\n",
    "- **L'indice di felicità è cresciuto leggermente in tutto il mondo dal 2015 al 2019, indicando probabimente un complessivo miglioramento delle condizioni di vita**\n",
    "\n",
    "- I parametri correlati maggiormente con HS in UE sono: \n",
    "    - La fiducia nelle istituzioni,\n",
    "    - La libertà di fare scelte di vita,\n",
    "    - Il guadagno economico personale\n",
    "\n",
    "\n",
    "- **Situazione italiana:**\n",
    "    - **Punti di forza:**\n",
    "        - **Situazione sanitaria:** l'Italia è abbondantemente sopra alla media UE per quanto riguarda il carico di malattia e leggermente sopra alla media per quanto riguarda l'aspettativa di vita. Questo indica una situazione positiva in ambito sanitario che influisce notevolmente sulla felicità degli italiani.\n",
    "    - **Punti deboli:**\n",
    "        - **Libertà di fare scelte di vita:** i dati riguardanti questo aspetto mostrano una differenza consistente a sfavore dell'Italia. Questo parametro inoltre ha una forte correlazione con l'indice di felicità. Questo indica che misure volte a migliorare la libertà delle persone di poter fare scelte di vita sono cruciali per migliorare la felicità degli italiani.\n",
    "        - **Fiducia nel governo:** i dati riguardanti questo aspetto mostrano una differenza significativa tra l'Italia e la media UE. Questo parametro è quello maggiormente correlato con l'indice di felicità e perciò migliorare la fiducia dei cittadini nelle istituzioni è vitale per poter aumentare l'HS italiano.\n",
    "        - **Disoccupazione:** anche se in misura inferiore rispetto ai due parametri precedenti, la situazione italiana è peggiore rispetto alla media UE e questo incide sull'HS dell'Italia. Risulta quindi importante focalizzare l'attenzione anche su questo aspetto."
   ]
  }
 ],
 "metadata": {
  "kernelspec": {
   "display_name": "Python 3 (ipykernel)",
   "language": "python",
   "name": "python3"
  },
  "language_info": {
   "codemirror_mode": {
    "name": "ipython",
    "version": 3
   },
   "file_extension": ".py",
   "mimetype": "text/x-python",
   "name": "python",
   "nbconvert_exporter": "python",
   "pygments_lexer": "ipython3",
   "version": "3.9.16"
  }
 },
 "nbformat": 4,
 "nbformat_minor": 5
}
